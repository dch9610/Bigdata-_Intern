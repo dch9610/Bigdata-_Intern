{
 "cells": [
  {
   "cell_type": "markdown",
   "metadata": {},
   "source": [
    "## 데이터베이스란?\n",
    "- 대량의 정보를 컴퓨터가 효율적으로 접근할 수 있도록 가공 및 저장한것\n",
    "- 데이터베이스 관리시스템(DBMS) : 데이터베이스를 관리하기 위한 컴퓨터시스템\n",
    "- 데이터베이스 종류 : 계층형, NETWORK형, 관계형, 객체형, NoSQL"
   ]
  },
  {
   "cell_type": "markdown",
   "metadata": {},
   "source": [
    "### DBMS 특징\n",
    "- 실시간 접근성 \n",
    "- 계속적인 변화 : 데이터값은 시간에 따라 항상 변경 (삽입, 삭제, 수정 등) \n",
    "- 동시 공유 : 서로 다른 업무 또는 여러 사용자에게 동시에 공유\n",
    "- 내용에 따른 참조 : 데이터의 물리적인 위치가 아니라 데이터 값에 따라 참조"
   ]
  },
  {
   "cell_type": "markdown",
   "metadata": {},
   "source": [
    "### DBMS 장점\n",
    "- 데이터를 통합 관리하여 데이터의 중복관리를 최소화\n",
    "- 한번 저장된 데이터를 여러가지 형태로 표현\n",
    "- 데이터 불일치나 모순성을 해결하여 데이터 일관성을 유지\n",
    "- 입력이나 수정시 다양한 무결성 처리를 자동 검증\n",
    "- 데이터 수집, 분석, 처리가 용이\n",
    "- 중앙집중식 관리로 일률적인 보안관리 가능"
   ]
  },
  {
   "cell_type": "markdown",
   "metadata": {},
   "source": [
    "---"
   ]
  },
  {
   "cell_type": "markdown",
   "metadata": {},
   "source": [
    "## RDBMS"
   ]
  },
  {
   "cell_type": "markdown",
   "metadata": {},
   "source": [
    "### RDBMS (관계형 데이터베이스) 특징\n",
    "- \"표\"의 개념을 사용해서 데이터를 구성하는 방법 (테이블)\n",
    "- 테이블은 데이터항목을 나타내는 열(Column), 한 건의 데이터를 뜻하는 행(row)으로 구성\n",
    "- 데이터 읽기/쓰기는 행단위로 처리\n",
    "- 테이블 데이터가 실제로 저장되는 장소의 구조가 바뀌더라도, 응용프로그램을 변경시킬 필요가 없는 물리적 구조로부터의 독립성 제공"
   ]
  },
  {
   "cell_type": "markdown",
   "metadata": {},
   "source": [
    "### RDBMS 시스템 구성\n",
    "- 가장 일반적인 시스템 구성은 클라이언트_서버형 (C/S형) <br>\n",
    "\n",
    "\n",
    "- 서버 : 다른 프로그램으로부터 요청을 받아서 해당 요청에 따라 처리를 하는 프로그램 또는 프로그램이 설치된 장비를 의미\n",
    "- RDBMS도 서버의 일종으로 데이터베이스 데이터를 꺼내서 반환하거나 데이터 변경작업을 수행 <br>\n",
    "\n",
    "\n",
    "- 클라이언트 : 서버에 요청을 보내는 프로그램 또는 해당 프로그램이 설치된 장비\n",
    "- 클라이언트는 어떤 데이터를 보고 싶은지, 데이터를 어떻게 변경하고 싶은지를 SQL문으로 작성해서 서버로 전송\n",
    "- 다수의 클라이언트가 동시에 하나의 데이터베이스에 접속해 작업을 수행할 수 있음"
   ]
  },
  {
   "cell_type": "markdown",
   "metadata": {},
   "source": [
    "---"
   ]
  },
  {
   "cell_type": "markdown",
   "metadata": {},
   "source": [
    "## SQL"
   ]
  },
  {
   "cell_type": "markdown",
   "metadata": {},
   "source": [
    "### SQL이란?\n",
    "- 관계형 데이터베이스를 제어하기 위한 언어\n",
    "- SQL에서는 처리하고 싶은 내용을 하나의 구문(SQL)으로 기술하고, RDBMS에 전송"
   ]
  },
  {
   "cell_type": "markdown",
   "metadata": {},
   "source": [
    "### SQL 특징\n",
    "- 절차적인 언어가 아니라 선언적 언어입니다.\n",
    "    - 실제 데이터들이 어떻게 처리되는지에 대한 세부적인 과정은 SQL문 작성자가 신경 쓰지 않아도됨\n",
    "- DBMS의 종류에 얽매이지 않고 사용할 수 있는 장점\n",
    "    - 여러 회사의 제품이 존재하지만 표준 SQL문을 적용할 수 있음"
   ]
  },
  {
   "cell_type": "markdown",
   "metadata": {},
   "source": [
    "### SQL 종류\n",
    "- 목적에 따라 DDL, DML, DCL로 분류\n",
    "\n",
    "\n",
    "    - DML (Data Manipulation Language)\n",
    "        : 테이블의 행을 검색하거나 변경하기 위한 것\n",
    "        - SELECT : 데이터를 검색할때 사용\n",
    "        - INSERT : 테이블에서 새 행을 입력\n",
    "        - UPDATE : 기존 행 변경\n",
    "        - DELETE : 행을 제거\n",
    "        \n",
    "        \n",
    "    - DDL (Data Definition Language)\n",
    "        : 데이터를 저장하는 데이터베이스 및 테이블, 기타 오브젝트를 생성/변경/삭제하기 위한 것\n",
    "        - CREATE : 테이블 등 데이터 구조물(객체)을 생성\n",
    "        - ALTER : 객체를 수정할 때 사용\n",
    "        - DROP : 객체 제거시 사용\n",
    "        - RENAME : 객체 이름을 변경할 때 사용\n",
    "        - TRUNCATE : 객체 내의 모든 행을 삭제\n",
    "        \n",
    "        \n",
    "    - DCL (Data Control Language)\n",
    "        : 데이터베이스에서 처리한 변경 내용을 확정하거나 취소하기 위한 것\n",
    "        - COMMIT : 데이터베이스 변경 내용을 확정\n",
    "        - ROLLBACK : 변경 내용을 취소\n",
    "        - GRANT : 처리 권한을 부여 \n",
    "        - REVOKE : 처리 권한 제거"
   ]
  },
  {
   "cell_type": "markdown",
   "metadata": {},
   "source": [
    "---"
   ]
  },
  {
   "cell_type": "markdown",
   "metadata": {},
   "source": [
    "## 학습정리\n",
    "**1. 데이터 베이스 정의**\n",
    "- 기업이나 개인이 필요에 의해 논리적으로 연관되 데이터를 모아 일정한 형태로 저장해 놓은 것\n",
    "- 데이터베이스를 관리하기 위해 DBMS를 사용\n",
    "- 관계형 데이터베이스(RDBMS)에서는 2차원 테이블 형태로 자료를 저장\n",
    "\n",
    "**2. SQL 개요**\n",
    "- 데이터베이스에 특정 작업을 수행하기 위해 SQL을 사용\n",
    "- SQL을 이용해 테이블 생성/ 구조변경/ 삭제작업을 수행\n",
    "- SQL을 이용해 데이터 조회/ 변경/ 수정/ 삭제작업을 수행"
   ]
  }
 ],
 "metadata": {
  "kernelspec": {
   "display_name": "Python 3",
   "language": "python",
   "name": "python3"
  },
  "language_info": {
   "codemirror_mode": {
    "name": "ipython",
    "version": 3
   },
   "file_extension": ".py",
   "mimetype": "text/x-python",
   "name": "python",
   "nbconvert_exporter": "python",
   "pygments_lexer": "ipython3",
   "version": "3.8.5"
  }
 },
 "nbformat": 4,
 "nbformat_minor": 4
}
