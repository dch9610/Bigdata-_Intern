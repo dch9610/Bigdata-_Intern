{
 "cells": [
  {
   "cell_type": "code",
   "execution_count": 1,
   "id": "efcb3142",
   "metadata": {},
   "outputs": [],
   "source": [
    "# 기본\n",
    "import pandas as pd\n",
    "import numpy as np\n",
    "import matplotlib.pyplot as plt\n",
    "import seaborn as sns\n",
    "\n",
    "# KFold (교차 검증을 사용하기 위해)\n",
    "from sklearn.model_selection import KFold\n",
    "from sklearn.model_selection import StratifiedKFold\n",
    "\n",
    "# 교차검증 함수\n",
    "from sklearn.model_selection import cross_val_score\n",
    "from sklearn.model_selection import cross_validate\n",
    "\n",
    "# 데이터 전처리\n",
    "from sklearn.preprocessing import LabelEncoder\n",
    "from sklearn.preprocessing import StandardScaler\n",
    "\n",
    "# 하이퍼 파라미터 튜닝\n",
    "from sklearn.model_selection import GridSearchCV\n",
    "\n",
    "# 평가 함수\n",
    "from sklearn.metrics import accuracy_score\n",
    "\n",
    "# 머신러닝 알고리즘 - 분류\n",
    "from sklearn.neighbors import KNeighborsClassifier\n",
    "from sklearn.linear_model import LogisticRegression\n",
    "from sklearn.svm import SVC\n",
    "from sklearn.tree import DecisionTreeClassifier\n",
    "from sklearn.ensemble import RandomForestClassifier\n",
    "from sklearn.ensemble import GradientBoostingClassifier\n",
    "from xgboost import XGBClassifier\n",
    "\n",
    "# 머신러닝 알고리즘 - 회귀\n",
    "from sklearn.neighbors import KNeighborsRegressor\n",
    "from sklearn.linear_model import LinearRegression\n",
    "from sklearn.linear_model import Ridge\n",
    "from sklearn.linear_model import Lasso\n",
    "from sklearn.linear_model import ElasticNet\n",
    "from sklearn.svm import SVR\n",
    "from sklearn.tree import DecisionTreeRegressor\n",
    "from sklearn.ensemble import RandomForestRegressor\n",
    "from sklearn.ensemble import GradientBoostingRegressor\n",
    "from xgboost import XGBRFRegressor\n",
    "\n",
    "# 저장\n",
    "import pickle\n",
    "\n",
    "# 그래프 설정\n",
    "plt.rcParams['font.family'] = 'Malgun Gothic'   # 윈도우용\n",
    "# plt.rcParams['font.family'] = 'AppleGothic'   # 맥용\n",
    "plt.rcParams['font.size'] = 16                  # 폰트 크기\n",
    "plt.rcParams['figure.figsize'] = 10,8          # 그래프 크기\n",
    "plt.rcParams['axes.unicode_minus'] = False     # - 기호 깨짐 방지\n",
    "\n",
    "\n",
    "# 경고 메시지가 안나오게 하기\n",
    "import warnings\n",
    "warnings.filterwarnings('ignore')"
   ]
  },
  {
   "cell_type": "markdown",
   "id": "76bfbb37",
   "metadata": {},
   "source": [
    "## 데이터 불러오기"
   ]
  },
  {
   "cell_type": "code",
   "execution_count": 3,
   "id": "e4d95338",
   "metadata": {
    "scrolled": true
   },
   "outputs": [
    {
     "data": {
      "text/html": [
       "<div>\n",
       "<style scoped>\n",
       "    .dataframe tbody tr th:only-of-type {\n",
       "        vertical-align: middle;\n",
       "    }\n",
       "\n",
       "    .dataframe tbody tr th {\n",
       "        vertical-align: top;\n",
       "    }\n",
       "\n",
       "    .dataframe thead th {\n",
       "        text-align: right;\n",
       "    }\n",
       "</style>\n",
       "<table border=\"1\" class=\"dataframe\">\n",
       "  <thead>\n",
       "    <tr style=\"text-align: right;\">\n",
       "      <th></th>\n",
       "      <th>NAME</th>\n",
       "      <th>CCTV_X</th>\n",
       "      <th>CCTV_Y</th>\n",
       "      <th>ID</th>\n",
       "      <th>URL</th>\n",
       "    </tr>\n",
       "  </thead>\n",
       "  <tbody>\n",
       "    <tr>\n",
       "      <th>0</th>\n",
       "      <td>센텀중</td>\n",
       "      <td>129.123994</td>\n",
       "      <td>35.173625</td>\n",
       "      <td>79</td>\n",
       "      <td>https://its.busan.go.kr/traffic/exclude/cctvPo...</td>\n",
       "    </tr>\n",
       "    <tr>\n",
       "      <th>1</th>\n",
       "      <td>수영1호교사거리</td>\n",
       "      <td>129.125610</td>\n",
       "      <td>35.165390</td>\n",
       "      <td>53</td>\n",
       "      <td>https://its.busan.go.kr/traffic/exclude/cctvPo...</td>\n",
       "    </tr>\n",
       "    <tr>\n",
       "      <th>2</th>\n",
       "      <td>수영2호교입구(민락)</td>\n",
       "      <td>129.128130</td>\n",
       "      <td>35.159910</td>\n",
       "      <td>54</td>\n",
       "      <td>https://its.busan.go.kr/traffic/exclude/cctvPo...</td>\n",
       "    </tr>\n",
       "    <tr>\n",
       "      <th>3</th>\n",
       "      <td>하마정교차로</td>\n",
       "      <td>129.067785</td>\n",
       "      <td>35.174770</td>\n",
       "      <td>47</td>\n",
       "      <td>https://its.busan.go.kr/traffic/exclude/cctvPo...</td>\n",
       "    </tr>\n",
       "    <tr>\n",
       "      <th>4</th>\n",
       "      <td>송공(광장)</td>\n",
       "      <td>129.068768</td>\n",
       "      <td>35.169229</td>\n",
       "      <td>14</td>\n",
       "      <td>https://its.busan.go.kr/traffic/exclude/cctvPo...</td>\n",
       "    </tr>\n",
       "  </tbody>\n",
       "</table>\n",
       "</div>"
      ],
      "text/plain": [
       "          NAME      CCTV_X     CCTV_Y  ID  \\\n",
       "0          센텀중  129.123994  35.173625  79   \n",
       "1     수영1호교사거리  129.125610  35.165390  53   \n",
       "2  수영2호교입구(민락)  129.128130  35.159910  54   \n",
       "3       하마정교차로  129.067785  35.174770  47   \n",
       "4       송공(광장)  129.068768  35.169229  14   \n",
       "\n",
       "                                                 URL  \n",
       "0  https://its.busan.go.kr/traffic/exclude/cctvPo...  \n",
       "1  https://its.busan.go.kr/traffic/exclude/cctvPo...  \n",
       "2  https://its.busan.go.kr/traffic/exclude/cctvPo...  \n",
       "3  https://its.busan.go.kr/traffic/exclude/cctvPo...  \n",
       "4  https://its.busan.go.kr/traffic/exclude/cctvPo...  "
      ]
     },
     "execution_count": 3,
     "metadata": {},
     "output_type": "execute_result"
    }
   ],
   "source": [
    "cctv = pd.read_csv('../../원본데이터/CCTV 현황/센터보유 ITS CCTV 조회.csv',encoding='cp949')\n",
    "cctv.head()"
   ]
  },
  {
   "cell_type": "markdown",
   "id": "520dd0b6",
   "metadata": {},
   "source": [
    "### 결측치 확인"
   ]
  },
  {
   "cell_type": "code",
   "execution_count": 5,
   "id": "9a203889",
   "metadata": {},
   "outputs": [
    {
     "data": {
      "text/plain": [
       "NAME      0\n",
       "CCTV_X    0\n",
       "CCTV_Y    0\n",
       "ID        0\n",
       "URL       0\n",
       "dtype: int64"
      ]
     },
     "execution_count": 5,
     "metadata": {},
     "output_type": "execute_result"
    }
   ],
   "source": [
    "cctv.isna().sum()"
   ]
  },
  {
   "cell_type": "markdown",
   "id": "4fb164e3",
   "metadata": {},
   "source": [
    "### 중복값제거"
   ]
  },
  {
   "cell_type": "code",
   "execution_count": null,
   "id": "f9e08df2",
   "metadata": {},
   "outputs": [],
   "source": []
  },
  {
   "cell_type": "markdown",
   "id": "88998c1c",
   "metadata": {},
   "source": [
    "---"
   ]
  },
  {
   "cell_type": "markdown",
   "id": "5bb6139b",
   "metadata": {},
   "source": [
    "## 교회"
   ]
  },
  {
   "cell_type": "code",
   "execution_count": 6,
   "id": "c7ef0cbe",
   "metadata": {},
   "outputs": [
    {
     "data": {
      "text/html": [
       "<div>\n",
       "<style scoped>\n",
       "    .dataframe tbody tr th:only-of-type {\n",
       "        vertical-align: middle;\n",
       "    }\n",
       "\n",
       "    .dataframe tbody tr th {\n",
       "        vertical-align: top;\n",
       "    }\n",
       "\n",
       "    .dataframe thead th {\n",
       "        text-align: right;\n",
       "    }\n",
       "</style>\n",
       "<table border=\"1\" class=\"dataframe\">\n",
       "  <thead>\n",
       "    <tr style=\"text-align: right;\">\n",
       "      <th></th>\n",
       "      <th>Column1</th>\n",
       "      <th>church_name</th>\n",
       "      <th>church_lot</th>\n",
       "      <th>Latitude</th>\n",
       "      <th>Longitude</th>\n",
       "    </tr>\n",
       "  </thead>\n",
       "  <tbody>\n",
       "    <tr>\n",
       "      <th>0</th>\n",
       "      <td>115</td>\n",
       "      <td>가야제일교회</td>\n",
       "      <td>가야동 13-67</td>\n",
       "      <td>35.155289</td>\n",
       "      <td>129.044055</td>\n",
       "    </tr>\n",
       "    <tr>\n",
       "      <th>1</th>\n",
       "      <td>60</td>\n",
       "      <td>영안교회 가야예배당</td>\n",
       "      <td>가야동 150-9</td>\n",
       "      <td>35.151764</td>\n",
       "      <td>129.029545</td>\n",
       "    </tr>\n",
       "    <tr>\n",
       "      <th>2</th>\n",
       "      <td>186</td>\n",
       "      <td>가야교회 가야성전</td>\n",
       "      <td>가야동 345-2</td>\n",
       "      <td>35.152427</td>\n",
       "      <td>129.036348</td>\n",
       "    </tr>\n",
       "    <tr>\n",
       "      <th>3</th>\n",
       "      <td>204</td>\n",
       "      <td>감만교회</td>\n",
       "      <td>감만동 130-1</td>\n",
       "      <td>35.115846</td>\n",
       "      <td>129.079964</td>\n",
       "    </tr>\n",
       "    <tr>\n",
       "      <th>4</th>\n",
       "      <td>357</td>\n",
       "      <td>동항교회</td>\n",
       "      <td>감만동 90-2</td>\n",
       "      <td>35.117243</td>\n",
       "      <td>129.080253</td>\n",
       "    </tr>\n",
       "  </tbody>\n",
       "</table>\n",
       "</div>"
      ],
      "text/plain": [
       "   Column1 church_name church_lot   Latitude   Longitude\n",
       "0      115      가야제일교회  가야동 13-67  35.155289  129.044055\n",
       "1       60  영안교회 가야예배당  가야동 150-9  35.151764  129.029545\n",
       "2      186   가야교회 가야성전  가야동 345-2  35.152427  129.036348\n",
       "3      204        감만교회  감만동 130-1  35.115846  129.079964\n",
       "4      357        동항교회   감만동 90-2  35.117243  129.080253"
      ]
     },
     "execution_count": 6,
     "metadata": {},
     "output_type": "execute_result"
    }
   ],
   "source": [
    "church = pd.read_csv('../../원본데이터/부산시 교회/교회_위경도.csv',encoding='cp949')\n",
    "church.head()"
   ]
  },
  {
   "cell_type": "markdown",
   "id": "24226325",
   "metadata": {},
   "source": [
    "### 결측치 확인"
   ]
  },
  {
   "cell_type": "code",
   "execution_count": 7,
   "id": "7f7d9212",
   "metadata": {},
   "outputs": [
    {
     "data": {
      "text/plain": [
       "Column1        0\n",
       "church_name    0\n",
       "church_lot     0\n",
       "Latitude       2\n",
       "Longitude      2\n",
       "dtype: int64"
      ]
     },
     "execution_count": 7,
     "metadata": {},
     "output_type": "execute_result"
    }
   ],
   "source": [
    "church.isna().sum()"
   ]
  },
  {
   "cell_type": "markdown",
   "id": "d1655363",
   "metadata": {},
   "source": [
    "2개의 컬럼의 위도,경도 결측값"
   ]
  },
  {
   "cell_type": "markdown",
   "id": "74afda77",
   "metadata": {},
   "source": [
    "### 중복값제거"
   ]
  },
  {
   "cell_type": "code",
   "execution_count": null,
   "id": "062713f9",
   "metadata": {},
   "outputs": [],
   "source": []
  },
  {
   "cell_type": "markdown",
   "id": "92b28ecd",
   "metadata": {},
   "source": [
    "---"
   ]
  },
  {
   "cell_type": "markdown",
   "id": "9d4ea179",
   "metadata": {},
   "source": [
    "## 학원"
   ]
  },
  {
   "cell_type": "code",
   "execution_count": 10,
   "id": "01982988",
   "metadata": {
    "collapsed": true
   },
   "outputs": [
    {
     "data": {
      "text/html": [
       "<div>\n",
       "<style scoped>\n",
       "    .dataframe tbody tr th:only-of-type {\n",
       "        vertical-align: middle;\n",
       "    }\n",
       "\n",
       "    .dataframe tbody tr th {\n",
       "        vertical-align: top;\n",
       "    }\n",
       "\n",
       "    .dataframe thead th {\n",
       "        text-align: right;\n",
       "    }\n",
       "</style>\n",
       "<table border=\"1\" class=\"dataframe\">\n",
       "  <thead>\n",
       "    <tr style=\"text-align: right;\">\n",
       "      <th></th>\n",
       "      <th>연번</th>\n",
       "      <th>관할교육청명</th>\n",
       "      <th>구분</th>\n",
       "      <th>학원명</th>\n",
       "      <th>계열</th>\n",
       "      <th>교습과정</th>\n",
       "      <th>학원주소</th>\n",
       "      <th>Latitude</th>\n",
       "      <th>Longitude</th>\n",
       "      <th>우편번호</th>\n",
       "      <th>전화번호</th>\n",
       "      <th>Unnamed: 11</th>\n",
       "      <th>Unnamed: 12</th>\n",
       "    </tr>\n",
       "  </thead>\n",
       "  <tbody>\n",
       "    <tr>\n",
       "      <th>0</th>\n",
       "      <td>1</td>\n",
       "      <td>서부</td>\n",
       "      <td>학교교과교습학원</td>\n",
       "      <td>원탑영수학원</td>\n",
       "      <td>보통교과</td>\n",
       "      <td>보습</td>\n",
       "      <td>부산광역시 영도구 와치로 252 , 3층 일부 (동삼동, 선프라자)</td>\n",
       "      <td>35.075353</td>\n",
       "      <td>129.069017</td>\n",
       "      <td>49115.0</td>\n",
       "      <td>NaN</td>\n",
       "      <td>NaN</td>\n",
       "      <td>NaN</td>\n",
       "    </tr>\n",
       "    <tr>\n",
       "      <th>1</th>\n",
       "      <td>2</td>\n",
       "      <td>서부</td>\n",
       "      <td>학교교과교습학원</td>\n",
       "      <td>연피아노학원</td>\n",
       "      <td>예능</td>\n",
       "      <td>음악</td>\n",
       "      <td>부산광역시 서구 대영로38번길 11 , 109동 201호 전부 (서대신동1가, 대신...</td>\n",
       "      <td>35.108263</td>\n",
       "      <td>129.015886</td>\n",
       "      <td>49232.0</td>\n",
       "      <td>NaN</td>\n",
       "      <td>NaN</td>\n",
       "      <td>NaN</td>\n",
       "    </tr>\n",
       "    <tr>\n",
       "      <th>2</th>\n",
       "      <td>3</td>\n",
       "      <td>서부</td>\n",
       "      <td>학교교과교습학원</td>\n",
       "      <td>플랜에이영어학원</td>\n",
       "      <td>보통교과</td>\n",
       "      <td>보습</td>\n",
       "      <td>부산광역시 사하구 낙동대로 527 , 3층 전부 (하단동)</td>\n",
       "      <td>35.111069</td>\n",
       "      <td>128.964821</td>\n",
       "      <td>49308.0</td>\n",
       "      <td>051-710-3111</td>\n",
       "      <td>NaN</td>\n",
       "      <td>NaN</td>\n",
       "    </tr>\n",
       "    <tr>\n",
       "      <th>3</th>\n",
       "      <td>5</td>\n",
       "      <td>서부</td>\n",
       "      <td>학교교과교습학원</td>\n",
       "      <td>해강음악학원</td>\n",
       "      <td>예능</td>\n",
       "      <td>음악</td>\n",
       "      <td>부산광역시 사하구 제석로 49 , 2층전부 (당리동)</td>\n",
       "      <td>35.105355</td>\n",
       "      <td>128.974071</td>\n",
       "      <td>49326.0</td>\n",
       "      <td>051-292-4336</td>\n",
       "      <td>NaN</td>\n",
       "      <td>NaN</td>\n",
       "    </tr>\n",
       "    <tr>\n",
       "      <th>4</th>\n",
       "      <td>6</td>\n",
       "      <td>서부</td>\n",
       "      <td>학교교과교습학원</td>\n",
       "      <td>아름음악학원</td>\n",
       "      <td>예능</td>\n",
       "      <td>음악</td>\n",
       "      <td>부산광역시 사하구 승학로 128 (당리동, 무궁화빌라)</td>\n",
       "      <td>35.103534</td>\n",
       "      <td>128.981458</td>\n",
       "      <td>49331.0</td>\n",
       "      <td>051-203-3513</td>\n",
       "      <td>NaN</td>\n",
       "      <td>NaN</td>\n",
       "    </tr>\n",
       "  </tbody>\n",
       "</table>\n",
       "</div>"
      ],
      "text/plain": [
       "   연번 관할교육청명        구분       학원명    계열 교습과정  \\\n",
       "0   1     서부  학교교과교습학원    원탑영수학원  보통교과   보습   \n",
       "1   2     서부  학교교과교습학원    연피아노학원    예능   음악   \n",
       "2   3     서부  학교교과교습학원  플랜에이영어학원  보통교과   보습   \n",
       "3   5     서부  학교교과교습학원    해강음악학원    예능   음악   \n",
       "4   6     서부  학교교과교습학원    아름음악학원    예능   음악   \n",
       "\n",
       "                                                학원주소   Latitude   Longitude  \\\n",
       "0              부산광역시 영도구 와치로 252 , 3층 일부 (동삼동, 선프라자)  35.075353  129.069017   \n",
       "1  부산광역시 서구 대영로38번길 11 , 109동 201호 전부 (서대신동1가, 대신...  35.108263  129.015886   \n",
       "2                   부산광역시 사하구 낙동대로 527 , 3층 전부 (하단동)  35.111069  128.964821   \n",
       "3                      부산광역시 사하구 제석로 49 , 2층전부 (당리동)  35.105355  128.974071   \n",
       "4                     부산광역시 사하구 승학로 128 (당리동, 무궁화빌라)  35.103534  128.981458   \n",
       "\n",
       "      우편번호          전화번호  Unnamed: 11 Unnamed: 12  \n",
       "0  49115.0           NaN          NaN         NaN  \n",
       "1  49232.0           NaN          NaN         NaN  \n",
       "2  49308.0  051-710-3111          NaN         NaN  \n",
       "3  49326.0  051-292-4336          NaN         NaN  \n",
       "4  49331.0  051-203-3513          NaN         NaN  "
      ]
     },
     "execution_count": 10,
     "metadata": {},
     "output_type": "execute_result"
    }
   ],
   "source": [
    "acad = pd.read_csv('../../원본데이터/학원, 학교, 유치원 위치 현황/부산 학원, 교습소 현황 - 학원명단 _ 위경도.csv',encoding='cp949')\n",
    "acad.head()"
   ]
  },
  {
   "cell_type": "markdown",
   "id": "654f0ecf",
   "metadata": {},
   "source": [
    "### 결측치 확인"
   ]
  },
  {
   "cell_type": "code",
   "execution_count": 11,
   "id": "c03874dc",
   "metadata": {},
   "outputs": [
    {
     "data": {
      "text/plain": [
       "연번                0\n",
       "관할교육청명            0\n",
       "구분                0\n",
       "학원명               0\n",
       "계열              136\n",
       "교습과정            135\n",
       "학원주소              0\n",
       "Latitude          2\n",
       "Longitude         2\n",
       "우편번호              3\n",
       "전화번호           1136\n",
       "Unnamed: 11    4626\n",
       "Unnamed: 12    4625\n",
       "dtype: int64"
      ]
     },
     "execution_count": 11,
     "metadata": {},
     "output_type": "execute_result"
    }
   ],
   "source": [
    "acad.isna().sum()"
   ]
  },
  {
   "cell_type": "markdown",
   "id": "0b590eab",
   "metadata": {},
   "source": [
    "2개의 컬럼의 위도,경도 결측값 제거 <br>\n",
    "Unnamed: 11,Unnamed: 12  컬럼 제거"
   ]
  },
  {
   "cell_type": "markdown",
   "id": "52a13845",
   "metadata": {},
   "source": [
    "### 중복값제거"
   ]
  },
  {
   "cell_type": "code",
   "execution_count": null,
   "id": "1f5b7c09",
   "metadata": {},
   "outputs": [],
   "source": []
  }
 ],
 "metadata": {
  "kernelspec": {
   "display_name": "Python 3",
   "language": "python",
   "name": "python3"
  },
  "language_info": {
   "codemirror_mode": {
    "name": "ipython",
    "version": 3
   },
   "file_extension": ".py",
   "mimetype": "text/x-python",
   "name": "python",
   "nbconvert_exporter": "python",
   "pygments_lexer": "ipython3",
   "version": "3.8.8"
  }
 },
 "nbformat": 4,
 "nbformat_minor": 5
}
