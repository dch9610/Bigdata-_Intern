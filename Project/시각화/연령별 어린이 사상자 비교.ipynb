{
 "cells": [
  {
   "cell_type": "code",
   "execution_count": 4,
   "id": "21948ba4",
   "metadata": {},
   "outputs": [],
   "source": [
    "import pandas as pd\n",
    "\n",
    "import matplotlib.pyplot as plt\n",
    "import matplotlib\n",
    "\n",
    "import numpy as np\n",
    "\n",
    "from matplotlib import pyplot as plt\n",
    "# 한글 폰트 설정\n",
    "plt.rcParams['font.family'] = 'NanumGothic' # 윈도우(Windwos) 사용자\n",
    "#plt.rcParams['font.family'] = 'AppleGothic' # 맥(Mac) 사용자\n",
    "%matplotlib inline\n",
    "\n",
    "import plotly.offline as pyo\n",
    "import plotly.graph_objs as go"
   ]
  },
  {
   "cell_type": "markdown",
   "id": "1a60f2e8",
   "metadata": {},
   "source": [
    "---"
   ]
  },
  {
   "cell_type": "markdown",
   "id": "8bb54f97",
   "metadata": {},
   "source": [
    "## 전체 사상자 데이터"
   ]
  },
  {
   "cell_type": "code",
   "execution_count": 83,
   "id": "7ce73660",
   "metadata": {},
   "outputs": [],
   "source": [
    "# all11_15 = pd.read_excel('../data/taas/연령별 어린이(12세 이하) 사상자(11_15).xls', header=0, sheet_name=1)\n",
    "all11_15 = pd.read_excel('../data/taas/연령별 어린이(12세 이하) 사상자(16_20).xls', header=0, sheet_name=1)"
   ]
  },
  {
   "cell_type": "code",
   "execution_count": 84,
   "id": "af51f5d5",
   "metadata": {
    "scrolled": true
   },
   "outputs": [
    {
     "data": {
      "text/html": [
       "<div>\n",
       "<style scoped>\n",
       "    .dataframe tbody tr th:only-of-type {\n",
       "        vertical-align: middle;\n",
       "    }\n",
       "\n",
       "    .dataframe tbody tr th {\n",
       "        vertical-align: top;\n",
       "    }\n",
       "\n",
       "    .dataframe thead th {\n",
       "        text-align: right;\n",
       "    }\n",
       "</style>\n",
       "<table border=\"1\" class=\"dataframe\">\n",
       "  <thead>\n",
       "    <tr style=\"text-align: right;\">\n",
       "      <th></th>\n",
       "      <th>시군구</th>\n",
       "      <th>년도</th>\n",
       "      <th>2016</th>\n",
       "      <th>2016.1</th>\n",
       "      <th>2016.2</th>\n",
       "      <th>2016.3</th>\n",
       "      <th>2016.4</th>\n",
       "      <th>2016.5</th>\n",
       "      <th>2016.6</th>\n",
       "      <th>2016.7</th>\n",
       "      <th>...</th>\n",
       "      <th>2019.8</th>\n",
       "      <th>2020</th>\n",
       "      <th>2020.1</th>\n",
       "      <th>2020.2</th>\n",
       "      <th>2020.3</th>\n",
       "      <th>2020.4</th>\n",
       "      <th>2020.5</th>\n",
       "      <th>2020.6</th>\n",
       "      <th>2020.7</th>\n",
       "      <th>2020.8</th>\n",
       "    </tr>\n",
       "  </thead>\n",
       "  <tbody>\n",
       "    <tr>\n",
       "      <th>0</th>\n",
       "      <td>시군구</td>\n",
       "      <td>년도</td>\n",
       "      <td>4세</td>\n",
       "      <td>5세</td>\n",
       "      <td>6세</td>\n",
       "      <td>7세</td>\n",
       "      <td>8세</td>\n",
       "      <td>9세</td>\n",
       "      <td>10세</td>\n",
       "      <td>11세</td>\n",
       "      <td>...</td>\n",
       "      <td>12세</td>\n",
       "      <td>4세</td>\n",
       "      <td>5세</td>\n",
       "      <td>6세</td>\n",
       "      <td>7세</td>\n",
       "      <td>8세</td>\n",
       "      <td>9세</td>\n",
       "      <td>10세</td>\n",
       "      <td>11세</td>\n",
       "      <td>12세</td>\n",
       "    </tr>\n",
       "    <tr>\n",
       "      <th>1</th>\n",
       "      <td>합계</td>\n",
       "      <td>사망</td>\n",
       "      <td>1</td>\n",
       "      <td>1</td>\n",
       "      <td>1</td>\n",
       "      <td>1</td>\n",
       "      <td>1</td>\n",
       "      <td>0</td>\n",
       "      <td>0</td>\n",
       "      <td>0</td>\n",
       "      <td>...</td>\n",
       "      <td>0</td>\n",
       "      <td>1</td>\n",
       "      <td>0</td>\n",
       "      <td>0</td>\n",
       "      <td>0</td>\n",
       "      <td>0</td>\n",
       "      <td>0</td>\n",
       "      <td>0</td>\n",
       "      <td>0</td>\n",
       "      <td>0</td>\n",
       "    </tr>\n",
       "    <tr>\n",
       "      <th>2</th>\n",
       "      <td>합계</td>\n",
       "      <td>부상</td>\n",
       "      <td>47</td>\n",
       "      <td>56</td>\n",
       "      <td>52</td>\n",
       "      <td>59</td>\n",
       "      <td>57</td>\n",
       "      <td>72</td>\n",
       "      <td>55</td>\n",
       "      <td>36</td>\n",
       "      <td>...</td>\n",
       "      <td>64</td>\n",
       "      <td>27</td>\n",
       "      <td>47</td>\n",
       "      <td>32</td>\n",
       "      <td>66</td>\n",
       "      <td>56</td>\n",
       "      <td>52</td>\n",
       "      <td>38</td>\n",
       "      <td>35</td>\n",
       "      <td>32</td>\n",
       "    </tr>\n",
       "  </tbody>\n",
       "</table>\n",
       "<p>3 rows × 47 columns</p>\n",
       "</div>"
      ],
      "text/plain": [
       "   시군구  년도 2016 2016.1 2016.2 2016.3 2016.4 2016.5 2016.6 2016.7  ... 2019.8  \\\n",
       "0  시군구  년도   4세     5세     6세     7세     8세     9세    10세    11세  ...    12세   \n",
       "1   합계  사망    1      1      1      1      1      0      0      0  ...      0   \n",
       "2   합계  부상   47     56     52     59     57     72     55     36  ...     64   \n",
       "\n",
       "  2020 2020.1 2020.2 2020.3 2020.4 2020.5 2020.6 2020.7 2020.8  \n",
       "0   4세     5세     6세     7세     8세     9세    10세    11세    12세  \n",
       "1    1      0      0      0      0      0      0      0      0  \n",
       "2   27     47     32     66     56     52     38     35     32  \n",
       "\n",
       "[3 rows x 47 columns]"
      ]
     },
     "execution_count": 84,
     "metadata": {},
     "output_type": "execute_result"
    }
   ],
   "source": [
    "all11_15.head(3)"
   ]
  },
  {
   "cell_type": "code",
   "execution_count": 85,
   "id": "fb86a462",
   "metadata": {},
   "outputs": [],
   "source": [
    "all11_15=all11_15.replace('-',0)\n",
    "all16_20=all16_20.replace('-',0)"
   ]
  },
  {
   "cell_type": "code",
   "execution_count": 86,
   "id": "bdc476b1",
   "metadata": {},
   "outputs": [],
   "source": [
    "# 구군명\n",
    "name = ['합계','중구','서구','동구','영도구','진구','동래구','남구','북구','해운대구',\n",
    "        '사하구','금정구','강서구','연제구','수영구','사상구','기장군']"
   ]
  },
  {
   "cell_type": "code",
   "execution_count": 87,
   "id": "6ed1a1e1",
   "metadata": {},
   "outputs": [],
   "source": [
    "df = pd.DataFrame({'시군구':name})"
   ]
  },
  {
   "cell_type": "code",
   "execution_count": 88,
   "id": "fbd4c4c4",
   "metadata": {
    "scrolled": true
   },
   "outputs": [
    {
     "data": {
      "text/html": [
       "<div>\n",
       "<style scoped>\n",
       "    .dataframe tbody tr th:only-of-type {\n",
       "        vertical-align: middle;\n",
       "    }\n",
       "\n",
       "    .dataframe tbody tr th {\n",
       "        vertical-align: top;\n",
       "    }\n",
       "\n",
       "    .dataframe thead th {\n",
       "        text-align: right;\n",
       "    }\n",
       "</style>\n",
       "<table border=\"1\" class=\"dataframe\">\n",
       "  <thead>\n",
       "    <tr style=\"text-align: right;\">\n",
       "      <th></th>\n",
       "      <th>시군구</th>\n",
       "    </tr>\n",
       "  </thead>\n",
       "  <tbody>\n",
       "    <tr>\n",
       "      <th>0</th>\n",
       "      <td>합계</td>\n",
       "    </tr>\n",
       "    <tr>\n",
       "      <th>1</th>\n",
       "      <td>중구</td>\n",
       "    </tr>\n",
       "    <tr>\n",
       "      <th>2</th>\n",
       "      <td>서구</td>\n",
       "    </tr>\n",
       "    <tr>\n",
       "      <th>3</th>\n",
       "      <td>동구</td>\n",
       "    </tr>\n",
       "    <tr>\n",
       "      <th>4</th>\n",
       "      <td>영도구</td>\n",
       "    </tr>\n",
       "  </tbody>\n",
       "</table>\n",
       "</div>"
      ],
      "text/plain": [
       "   시군구\n",
       "0   합계\n",
       "1   중구\n",
       "2   서구\n",
       "3   동구\n",
       "4  영도구"
      ]
     },
     "execution_count": 88,
     "metadata": {},
     "output_type": "execute_result"
    }
   ],
   "source": [
    "df.head()"
   ]
  },
  {
   "cell_type": "markdown",
   "id": "00ebe629",
   "metadata": {},
   "source": [
    "---"
   ]
  },
  {
   "cell_type": "code",
   "execution_count": 89,
   "id": "9f4ce185",
   "metadata": {},
   "outputs": [],
   "source": [
    "columns_name = ['11_4세','11_5세','11_6세','11_7세','11_8세','11_9세','11_10세','11_11세','11_12세',\n",
    "                '12_4세','12_5세','12_6세','12_7세','12_8세','12_9세','12_10세','12_11세','12_12세',\n",
    "                '13_4세','13_5세','13_6세','13_7세','13_8세','13_9세','13_10세','13_11세','13_12세',\n",
    "                '14_4세','14_5세','14_6세','14_7세','14_8세','14_9세','14_10세','14_11세','14_12세',\n",
    "                '15_4세','15_5세','15_6세','15_7세','15_8세','15_9세','15_10세','15_11세','15_12세',\n",
    "                ]"
   ]
  },
  {
   "cell_type": "code",
   "execution_count": 96,
   "id": "af7e038d",
   "metadata": {},
   "outputs": [],
   "source": [
    "columns_name = ['16_4세','16_5세','16_6세','16_7세','16_8세','16_9세','16_10세','16_11세','16_12세',\n",
    "                '17_4세','17_5세','17_6세','17_7세','17_8세','17_9세','17_10세','17_11세','17_12세',\n",
    "                '18_4세','18_5세','18_6세','18_7세','18_8세','18_9세','18_10세','18_11세','18_12세',\n",
    "                '19_4세','19_5세','19_6세','19_7세','19_8세','19_9세','19_10세','19_11세','19_12세',\n",
    "                '20_4세','20_5세','20_6세','20_7세','20_8세','20_9세','20_10세','20_11세','20_12세',\n",
    "                ]"
   ]
  },
  {
   "cell_type": "code",
   "execution_count": 97,
   "id": "518eb81b",
   "metadata": {},
   "outputs": [],
   "source": [
    "# 사망자 + 부상자 \n",
    "all_sum = list((all11_15.iloc[1] + all11_15.iloc[2]).values[2:])\n",
    "all_jung = list((all11_15.iloc[3] + all11_15.iloc[4]).values[2:])\n",
    "all_su = list((all11_15.iloc[5] + all11_15.iloc[6]).values[2:])\n",
    "all_dong = list((all11_15.iloc[7] + all11_15.iloc[8]).values[2:])\n",
    "all_young = list((all11_15.iloc[9] + all11_15.iloc[10]).values[2:])\n",
    "all_jin = list((all11_15.iloc[11] + all11_15.iloc[12]).values[2:])\n",
    "all_dongr = list((all11_15.iloc[13] + all11_15.iloc[14]).values[2:])\n",
    "all_nam = list((all11_15.iloc[15] + all11_15.iloc[16]).values[2:])\n",
    "all_buk = list((all11_15.iloc[17] + all11_15.iloc[18]).values[2:])\n",
    "all_hae = list((all11_15.iloc[19] + all11_15.iloc[20]).values[2:])\n",
    "all_sah = list((all11_15.iloc[21] + all11_15.iloc[22]).values[2:])\n",
    "all_gumg = list((all11_15.iloc[23] + all11_15.iloc[24]).values[2:])\n",
    "all_kang = list((all11_15.iloc[25] + all11_15.iloc[26]).values[2:])\n",
    "all_yeon = list((all11_15.iloc[27] + all11_15.iloc[28]).values[2:])\n",
    "all_su = list((all11_15.iloc[29] + all11_15.iloc[30]).values[2:])\n",
    "all_sasang = list((all11_15.iloc[31] + all11_15.iloc[32]).values[2:])\n",
    "all_kijang = list((all11_15.iloc[33] + all11_15.iloc[34]).values[2:])\n"
   ]
  },
  {
   "cell_type": "code",
   "execution_count": 98,
   "id": "5c709ef5",
   "metadata": {},
   "outputs": [],
   "source": [
    "# 연도별, 나이별 데이터 프레임 생성\n",
    "df1 = pd.DataFrame([columns_name,all_sum,all_jung,all_su,all_dong,\n",
    "                    all_young,all_jin,all_dongr,all_nam,all_buk,\n",
    "                    all_hae,all_sah,all_gumg,all_kang,all_yeon,\n",
    "                    all_su, all_sasang,all_kijang])\n",
    "\n",
    "\n",
    "\n",
    "df1 = df1.rename(columns=df1.iloc[0])\n",
    "df1 = df1.drop(df1.index[0])\n",
    "df1 = df1.reset_index(drop=True)"
   ]
  },
  {
   "cell_type": "code",
   "execution_count": 99,
   "id": "2f732e7d",
   "metadata": {},
   "outputs": [],
   "source": [
    "final = pd.concat([df,df1],axis=1)\n",
    "final = final.set_index('시군구')"
   ]
  },
  {
   "cell_type": "code",
   "execution_count": 100,
   "id": "b9c6d14f",
   "metadata": {},
   "outputs": [
    {
     "data": {
      "text/html": [
       "<div>\n",
       "<style scoped>\n",
       "    .dataframe tbody tr th:only-of-type {\n",
       "        vertical-align: middle;\n",
       "    }\n",
       "\n",
       "    .dataframe tbody tr th {\n",
       "        vertical-align: top;\n",
       "    }\n",
       "\n",
       "    .dataframe thead th {\n",
       "        text-align: right;\n",
       "    }\n",
       "</style>\n",
       "<table border=\"1\" class=\"dataframe\">\n",
       "  <thead>\n",
       "    <tr style=\"text-align: right;\">\n",
       "      <th></th>\n",
       "      <th>16_4세</th>\n",
       "      <th>16_5세</th>\n",
       "      <th>16_6세</th>\n",
       "      <th>16_7세</th>\n",
       "      <th>16_8세</th>\n",
       "      <th>16_9세</th>\n",
       "      <th>16_10세</th>\n",
       "      <th>16_11세</th>\n",
       "      <th>16_12세</th>\n",
       "      <th>17_4세</th>\n",
       "      <th>...</th>\n",
       "      <th>19_12세</th>\n",
       "      <th>20_4세</th>\n",
       "      <th>20_5세</th>\n",
       "      <th>20_6세</th>\n",
       "      <th>20_7세</th>\n",
       "      <th>20_8세</th>\n",
       "      <th>20_9세</th>\n",
       "      <th>20_10세</th>\n",
       "      <th>20_11세</th>\n",
       "      <th>20_12세</th>\n",
       "    </tr>\n",
       "    <tr>\n",
       "      <th>시군구</th>\n",
       "      <th></th>\n",
       "      <th></th>\n",
       "      <th></th>\n",
       "      <th></th>\n",
       "      <th></th>\n",
       "      <th></th>\n",
       "      <th></th>\n",
       "      <th></th>\n",
       "      <th></th>\n",
       "      <th></th>\n",
       "      <th></th>\n",
       "      <th></th>\n",
       "      <th></th>\n",
       "      <th></th>\n",
       "      <th></th>\n",
       "      <th></th>\n",
       "      <th></th>\n",
       "      <th></th>\n",
       "      <th></th>\n",
       "      <th></th>\n",
       "      <th></th>\n",
       "    </tr>\n",
       "  </thead>\n",
       "  <tbody>\n",
       "    <tr>\n",
       "      <th>합계</th>\n",
       "      <td>48</td>\n",
       "      <td>57</td>\n",
       "      <td>53</td>\n",
       "      <td>60</td>\n",
       "      <td>58</td>\n",
       "      <td>72</td>\n",
       "      <td>55</td>\n",
       "      <td>36</td>\n",
       "      <td>60</td>\n",
       "      <td>29</td>\n",
       "      <td>...</td>\n",
       "      <td>64</td>\n",
       "      <td>28</td>\n",
       "      <td>47</td>\n",
       "      <td>32</td>\n",
       "      <td>66</td>\n",
       "      <td>56</td>\n",
       "      <td>52</td>\n",
       "      <td>38</td>\n",
       "      <td>35</td>\n",
       "      <td>32</td>\n",
       "    </tr>\n",
       "    <tr>\n",
       "      <th>중구</th>\n",
       "      <td>2</td>\n",
       "      <td>0</td>\n",
       "      <td>1</td>\n",
       "      <td>0</td>\n",
       "      <td>1</td>\n",
       "      <td>1</td>\n",
       "      <td>2</td>\n",
       "      <td>0</td>\n",
       "      <td>2</td>\n",
       "      <td>0</td>\n",
       "      <td>...</td>\n",
       "      <td>1</td>\n",
       "      <td>2</td>\n",
       "      <td>1</td>\n",
       "      <td>0</td>\n",
       "      <td>2</td>\n",
       "      <td>1</td>\n",
       "      <td>0</td>\n",
       "      <td>0</td>\n",
       "      <td>1</td>\n",
       "      <td>0</td>\n",
       "    </tr>\n",
       "    <tr>\n",
       "      <th>서구</th>\n",
       "      <td>2</td>\n",
       "      <td>3</td>\n",
       "      <td>2</td>\n",
       "      <td>3</td>\n",
       "      <td>5</td>\n",
       "      <td>5</td>\n",
       "      <td>1</td>\n",
       "      <td>4</td>\n",
       "      <td>3</td>\n",
       "      <td>2</td>\n",
       "      <td>...</td>\n",
       "      <td>1</td>\n",
       "      <td>1</td>\n",
       "      <td>1</td>\n",
       "      <td>1</td>\n",
       "      <td>4</td>\n",
       "      <td>1</td>\n",
       "      <td>0</td>\n",
       "      <td>1</td>\n",
       "      <td>1</td>\n",
       "      <td>2</td>\n",
       "    </tr>\n",
       "    <tr>\n",
       "      <th>동구</th>\n",
       "      <td>0</td>\n",
       "      <td>1</td>\n",
       "      <td>1</td>\n",
       "      <td>3</td>\n",
       "      <td>3</td>\n",
       "      <td>2</td>\n",
       "      <td>0</td>\n",
       "      <td>0</td>\n",
       "      <td>1</td>\n",
       "      <td>1</td>\n",
       "      <td>...</td>\n",
       "      <td>2</td>\n",
       "      <td>0</td>\n",
       "      <td>1</td>\n",
       "      <td>0</td>\n",
       "      <td>4</td>\n",
       "      <td>3</td>\n",
       "      <td>2</td>\n",
       "      <td>1</td>\n",
       "      <td>0</td>\n",
       "      <td>1</td>\n",
       "    </tr>\n",
       "    <tr>\n",
       "      <th>영도구</th>\n",
       "      <td>0</td>\n",
       "      <td>1</td>\n",
       "      <td>1</td>\n",
       "      <td>1</td>\n",
       "      <td>1</td>\n",
       "      <td>1</td>\n",
       "      <td>0</td>\n",
       "      <td>2</td>\n",
       "      <td>1</td>\n",
       "      <td>1</td>\n",
       "      <td>...</td>\n",
       "      <td>2</td>\n",
       "      <td>1</td>\n",
       "      <td>0</td>\n",
       "      <td>2</td>\n",
       "      <td>1</td>\n",
       "      <td>3</td>\n",
       "      <td>0</td>\n",
       "      <td>2</td>\n",
       "      <td>1</td>\n",
       "      <td>0</td>\n",
       "    </tr>\n",
       "  </tbody>\n",
       "</table>\n",
       "<p>5 rows × 45 columns</p>\n",
       "</div>"
      ],
      "text/plain": [
       "    16_4세 16_5세 16_6세 16_7세 16_8세 16_9세 16_10세 16_11세 16_12세 17_4세  ...  \\\n",
       "시군구                                                                 ...   \n",
       "합계     48    57    53    60    58    72     55     36     60    29  ...   \n",
       "중구      2     0     1     0     1     1      2      0      2     0  ...   \n",
       "서구      2     3     2     3     5     5      1      4      3     2  ...   \n",
       "동구      0     1     1     3     3     2      0      0      1     1  ...   \n",
       "영도구     0     1     1     1     1     1      0      2      1     1  ...   \n",
       "\n",
       "    19_12세 20_4세 20_5세 20_6세 20_7세 20_8세 20_9세 20_10세 20_11세 20_12세  \n",
       "시군구                                                                  \n",
       "합계      64    28    47    32    66    56    52     38     35     32  \n",
       "중구       1     2     1     0     2     1     0      0      1      0  \n",
       "서구       1     1     1     1     4     1     0      1      1      2  \n",
       "동구       2     0     1     0     4     3     2      1      0      1  \n",
       "영도구      2     1     0     2     1     3     0      2      1      0  \n",
       "\n",
       "[5 rows x 45 columns]"
      ]
     },
     "execution_count": 100,
     "metadata": {},
     "output_type": "execute_result"
    }
   ],
   "source": [
    "final.head()"
   ]
  },
  {
   "cell_type": "code",
   "execution_count": 101,
   "id": "df253389",
   "metadata": {},
   "outputs": [],
   "source": [
    "# 전처리 파일 저장\n",
    "final.to_excel('./전처리데이터/연령별 어린이 사상자(16_20).xlsx')"
   ]
  },
  {
   "cell_type": "code",
   "execution_count": 26,
   "id": "cc3b3296",
   "metadata": {},
   "outputs": [],
   "source": [
    "all_t.to_excel('./전처리데이터/연령별 어린이 사상자(11_20).xlsx')"
   ]
  },
  {
   "cell_type": "code",
   "execution_count": 5,
   "id": "33510a4e",
   "metadata": {
    "scrolled": true
   },
   "outputs": [],
   "source": [
    "all_t_11_15 = pd.read_excel('./전처리데이터/연령별 어린이 사상자(11_15).xlsx')\n",
    "all_t_16_20 = pd.read_excel('./전처리데이터/연령별 어린이 사상자(16_20).xlsx')"
   ]
  },
  {
   "cell_type": "code",
   "execution_count": 20,
   "id": "43e67484",
   "metadata": {},
   "outputs": [],
   "source": [
    "all_t = pd.concat([all_t_11_15,all_t_16_20],axis=1)"
   ]
  },
  {
   "cell_type": "markdown",
   "id": "0b35f6e4",
   "metadata": {},
   "source": [
    "---"
   ]
  },
  {
   "cell_type": "markdown",
   "id": "0b54feca",
   "metadata": {},
   "source": [
    "## 시각화"
   ]
  },
  {
   "cell_type": "code",
   "execution_count": 29,
   "id": "c17b61eb",
   "metadata": {},
   "outputs": [],
   "source": [
    "all_t=pd.read_excel('./전처리데이터/연령별 어린이 사상자(11_20).xlsx')"
   ]
  },
  {
   "cell_type": "code",
   "execution_count": 58,
   "id": "2eaa9383",
   "metadata": {},
   "outputs": [],
   "source": [
    "all_4 = []\n",
    "all_5 = []\n",
    "all_6 = []\n",
    "all_7 = []\n",
    "all_8 = []\n",
    "all_9 = []\n",
    "all_10 = []\n",
    "all_11 = []\n",
    "all_12 = []"
   ]
  },
  {
   "cell_type": "code",
   "execution_count": 67,
   "id": "c4580504",
   "metadata": {
    "scrolled": true
   },
   "outputs": [
    {
     "name": "stdout",
     "output_type": "stream",
     "text": [
      "94\n",
      "90\n",
      "96\n",
      "80\n",
      "72\n",
      "58\n",
      "67\n",
      "49\n",
      "61\n",
      "33\n"
     ]
    }
   ],
   "source": [
    "for i in range(9,91,9):\n",
    "    all_12.append(all_t.iloc[0][i])\n",
    "    print(all_t.iloc[0][i])"
   ]
  },
  {
   "cell_type": "code",
   "execution_count": 75,
   "id": "9da924f8",
   "metadata": {},
   "outputs": [],
   "source": [
    "indexs=['4세','5세','6세','7세','8세','9세','10세','11세','12세']\n",
    "columns=['2011','2012','2013','2014','2015','2016','2017','2018','2019','2020']"
   ]
  },
  {
   "cell_type": "code",
   "execution_count": 76,
   "id": "44f9cd06",
   "metadata": {},
   "outputs": [],
   "source": [
    "# 연도별, 나이별 데이터 프레임 생성\n",
    "all_t_df = pd.DataFrame([all_4,all_5,all_6,all_7,all_8,all_9,\n",
    "                         all_10,all_11,all_12], columns=columns, index=indexs)"
   ]
  },
  {
   "cell_type": "code",
   "execution_count": 105,
   "id": "57ec312d",
   "metadata": {
    "scrolled": true
   },
   "outputs": [],
   "source": [
    "df_sum = []\n",
    "\n",
    "for i in range(0,9):\n",
    "    df_sum.append(sum(list(all_t_df.iloc[i])))"
   ]
  },
  {
   "cell_type": "code",
   "execution_count": 107,
   "id": "1b5d6698",
   "metadata": {},
   "outputs": [],
   "source": [
    "all_t_df['sum'] = df_sum"
   ]
  },
  {
   "cell_type": "code",
   "execution_count": 110,
   "id": "67f7cb1e",
   "metadata": {},
   "outputs": [],
   "source": [
    "all_t_df.to_excel('./전처리데이터/연령별 어린이 사상자(sum).xlsx')"
   ]
  },
  {
   "cell_type": "code",
   "execution_count": 112,
   "id": "46a19a18",
   "metadata": {},
   "outputs": [
    {
     "data": {
      "text/plain": [
       "Index(['4세', '5세', '6세', '7세', '8세', '9세', '10세', '11세', '12세'], dtype='object')"
      ]
     },
     "execution_count": 112,
     "metadata": {},
     "output_type": "execute_result"
    }
   ],
   "source": [
    "all_t_df.index"
   ]
  },
  {
   "cell_type": "code",
   "execution_count": 120,
   "id": "f9314806",
   "metadata": {},
   "outputs": [
    {
     "data": {
      "image/png": "[encoded data removed]",
      "text/plain": [
       "<Figure size 1440x720 with 1 Axes>"
      ]
     },
     "metadata": {
      "needs_background": "light"
     },
     "output_type": "display_data"
    }
   ],
   "source": [
    "# Basic Bar Chart\n",
    "plt.rc('font', size=20)        # 기본 폰트 크기\n",
    "\n",
    "year=2015\n",
    "\n",
    "plt.bar(all_t_df.index, all_t_df['sum'], color='green')\n",
    "\n",
    "\n",
    "plt.rcParams['figure.figsize'] = [20, 10]\n",
    "\n",
    "plt.title('2011 ~ 2020 연령별 교통사고 발생수', fontsize=30)\n",
    "\n",
    "plt.xlabel('연령별', fontsize=25)\n",
    "\n",
    "plt.ylabel('사고발생수', fontsize=25)\n",
    "\n",
    "# plt.xticks(index, label, fontsize=15)\n",
    "\n",
    "plt.show()\n",
    "\n",
    "\n",
    "\n"
   ]
  }
 ],
 "metadata": {
  "kernelspec": {
   "display_name": "Python 3",
   "language": "python",
   "name": "python3"
  },
  "language_info": {
   "codemirror_mode": {
    "name": "ipython",
    "version": 3
   },
   "file_extension": ".py",
   "mimetype": "text/x-python",
   "name": "python",
   "nbconvert_exporter": "python",
   "pygments_lexer": "ipython3",
   "version": "3.8.8"
  }
 },
 "nbformat": 4,
 "nbformat_minor": 5
}
