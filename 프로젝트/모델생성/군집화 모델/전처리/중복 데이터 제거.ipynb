{
 "cells": [
  {
   "cell_type": "code",
   "execution_count": 1,
   "id": "25d15dfa",
   "metadata": {},
   "outputs": [],
   "source": [
    "import pandas as pd"
   ]
  },
  {
   "cell_type": "markdown",
   "id": "ca6761f4",
   "metadata": {},
   "source": [
    "---"
   ]
  },
  {
   "cell_type": "markdown",
   "id": "7465f057",
   "metadata": {},
   "source": [
    "## 학원"
   ]
  },
  {
   "cell_type": "markdown",
   "id": "161899e3",
   "metadata": {},
   "source": [
    "## 데이터 불러오기"
   ]
  },
  {
   "cell_type": "code",
   "execution_count": 3,
   "id": "680d3920",
   "metadata": {},
   "outputs": [
    {
     "data": {
      "text/html": [
       "<div>\n",
       "<style scoped>\n",
       "    .dataframe tbody tr th:only-of-type {\n",
       "        vertical-align: middle;\n",
       "    }\n",
       "\n",
       "    .dataframe tbody tr th {\n",
       "        vertical-align: top;\n",
       "    }\n",
       "\n",
       "    .dataframe thead th {\n",
       "        text-align: right;\n",
       "    }\n",
       "</style>\n",
       "<table border=\"1\" class=\"dataframe\">\n",
       "  <thead>\n",
       "    <tr style=\"text-align: right;\">\n",
       "      <th></th>\n",
       "      <th>학원명</th>\n",
       "      <th>위도</th>\n",
       "      <th>경도</th>\n",
       "    </tr>\n",
       "  </thead>\n",
       "  <tbody>\n",
       "    <tr>\n",
       "      <th>0</th>\n",
       "      <td>괴정수재독서실</td>\n",
       "      <td>36.338972</td>\n",
       "      <td>127.378925</td>\n",
       "    </tr>\n",
       "    <tr>\n",
       "      <th>1</th>\n",
       "      <td>지사푸르넷학원</td>\n",
       "      <td>35.150415</td>\n",
       "      <td>128.832045</td>\n",
       "    </tr>\n",
       "    <tr>\n",
       "      <th>2</th>\n",
       "      <td>제이엠무용학원</td>\n",
       "      <td>35.150415</td>\n",
       "      <td>128.832045</td>\n",
       "    </tr>\n",
       "    <tr>\n",
       "      <th>3</th>\n",
       "      <td>더배움영수굿모닝미술학원</td>\n",
       "      <td>35.149506</td>\n",
       "      <td>128.832611</td>\n",
       "    </tr>\n",
       "    <tr>\n",
       "      <th>4</th>\n",
       "      <td>삼성영어수학학원</td>\n",
       "      <td>35.150365</td>\n",
       "      <td>128.834072</td>\n",
       "    </tr>\n",
       "  </tbody>\n",
       "</table>\n",
       "</div>"
      ],
      "text/plain": [
       "            학원명         위도          경도\n",
       "0       괴정수재독서실  36.338972  127.378925\n",
       "1       지사푸르넷학원  35.150415  128.832045\n",
       "2       제이엠무용학원  35.150415  128.832045\n",
       "3  더배움영수굿모닝미술학원  35.149506  128.832611\n",
       "4      삼성영어수학학원  35.150365  128.834072"
      ]
     },
     "execution_count": 3,
     "metadata": {},
     "output_type": "execute_result"
    }
   ],
   "source": [
    "acad = pd.read_csv('./data/학원.csv', encoding='cp949')\n",
    "acad.head()"
   ]
  },
  {
   "cell_type": "code",
   "execution_count": 6,
   "id": "09c8b99b",
   "metadata": {},
   "outputs": [
    {
     "data": {
      "text/plain": [
       "학원명    4626\n",
       "위도     4624\n",
       "경도     4624\n",
       "dtype: int64"
      ]
     },
     "execution_count": 6,
     "metadata": {},
     "output_type": "execute_result"
    }
   ],
   "source": [
    "acad.count()"
   ]
  },
  {
   "cell_type": "code",
   "execution_count": 8,
   "id": "541a4662",
   "metadata": {},
   "outputs": [],
   "source": [
    "lon_acad = acad.drop_duplicates(['위도','경도'])"
   ]
  },
  {
   "cell_type": "code",
   "execution_count": 9,
   "id": "a95fda81",
   "metadata": {
    "scrolled": false
   },
   "outputs": [
    {
     "data": {
      "text/plain": [
       "학원명    2835\n",
       "위도     2834\n",
       "경도     2834\n",
       "dtype: int64"
      ]
     },
     "execution_count": 9,
     "metadata": {},
     "output_type": "execute_result"
    }
   ],
   "source": [
    "lon_acad.count()"
   ]
  },
  {
   "cell_type": "code",
   "execution_count": 15,
   "id": "cb98d622",
   "metadata": {},
   "outputs": [],
   "source": [
    "학원만 = lon_acad[~lon_acad['학원명'].str.contains(\"독서실\")]"
   ]
  },
  {
   "cell_type": "code",
   "execution_count": 16,
   "id": "d011e02f",
   "metadata": {},
   "outputs": [
    {
     "data": {
      "text/plain": [
       "학원명    2654\n",
       "위도     2653\n",
       "경도     2653\n",
       "dtype: int64"
      ]
     },
     "execution_count": 16,
     "metadata": {},
     "output_type": "execute_result"
    }
   ],
   "source": [
    "학원만.count()"
   ]
  },
  {
   "cell_type": "code",
   "execution_count": 17,
   "id": "823a73b2",
   "metadata": {},
   "outputs": [],
   "source": [
    "학원만.to_csv('학원.csv', index=False, encoding='cp949')"
   ]
  },
  {
   "cell_type": "markdown",
   "id": "942d1a18",
   "metadata": {},
   "source": [
    "---"
   ]
  },
  {
   "cell_type": "markdown",
   "id": "329b9fd7",
   "metadata": {},
   "source": [
    "## CCTV"
   ]
  },
  {
   "cell_type": "code",
   "execution_count": 18,
   "id": "bab5ecb9",
   "metadata": {
    "scrolled": true
   },
   "outputs": [
    {
     "data": {
      "text/html": [
       "<div>\n",
       "<style scoped>\n",
       "    .dataframe tbody tr th:only-of-type {\n",
       "        vertical-align: middle;\n",
       "    }\n",
       "\n",
       "    .dataframe tbody tr th {\n",
       "        vertical-align: top;\n",
       "    }\n",
       "\n",
       "    .dataframe thead th {\n",
       "        text-align: right;\n",
       "    }\n",
       "</style>\n",
       "<table border=\"1\" class=\"dataframe\">\n",
       "  <thead>\n",
       "    <tr style=\"text-align: right;\">\n",
       "      <th></th>\n",
       "      <th>NAME</th>\n",
       "      <th>경도</th>\n",
       "      <th>위도</th>\n",
       "    </tr>\n",
       "  </thead>\n",
       "  <tbody>\n",
       "    <tr>\n",
       "      <th>0</th>\n",
       "      <td>대티방면</td>\n",
       "      <td>128.993807</td>\n",
       "      <td>35.100360</td>\n",
       "    </tr>\n",
       "    <tr>\n",
       "      <th>1</th>\n",
       "      <td>부산시청방면</td>\n",
       "      <td>129.059652</td>\n",
       "      <td>35.158357</td>\n",
       "    </tr>\n",
       "    <tr>\n",
       "      <th>2</th>\n",
       "      <td>대연방면</td>\n",
       "      <td>129.104919</td>\n",
       "      <td>35.139667</td>\n",
       "    </tr>\n",
       "    <tr>\n",
       "      <th>3</th>\n",
       "      <td>과정방면</td>\n",
       "      <td>129.085197</td>\n",
       "      <td>35.188835</td>\n",
       "    </tr>\n",
       "    <tr>\n",
       "      <th>4</th>\n",
       "      <td>새연산방면</td>\n",
       "      <td>129.084615</td>\n",
       "      <td>35.188840</td>\n",
       "    </tr>\n",
       "  </tbody>\n",
       "</table>\n",
       "</div>"
      ],
      "text/plain": [
       "     NAME          경도         위도\n",
       "0    대티방면  128.993807  35.100360\n",
       "1  부산시청방면  129.059652  35.158357\n",
       "2    대연방면  129.104919  35.139667\n",
       "3    과정방면  129.085197  35.188835\n",
       "4   새연산방면  129.084615  35.188840"
      ]
     },
     "execution_count": 18,
     "metadata": {},
     "output_type": "execute_result"
    }
   ],
   "source": [
    "cctv = pd.read_csv('./data/CCTV.csv', encoding='cp949')\n",
    "cctv.head()"
   ]
  },
  {
   "cell_type": "code",
   "execution_count": 19,
   "id": "ed8687c5",
   "metadata": {},
   "outputs": [
    {
     "data": {
      "text/plain": [
       "NAME    226\n",
       "경도      226\n",
       "위도      226\n",
       "dtype: int64"
      ]
     },
     "execution_count": 19,
     "metadata": {},
     "output_type": "execute_result"
    }
   ],
   "source": [
    "cctv.count()"
   ]
  },
  {
   "cell_type": "code",
   "execution_count": 21,
   "id": "3012e640",
   "metadata": {
    "scrolled": true
   },
   "outputs": [
    {
     "data": {
      "text/plain": [
       "NAME    226\n",
       "경도      226\n",
       "위도      226\n",
       "dtype: int64"
      ]
     },
     "execution_count": 21,
     "metadata": {},
     "output_type": "execute_result"
    }
   ],
   "source": [
    "lon_cctv = cctv.drop_duplicates(['위도'])\n",
    "lon_cctv.count()"
   ]
  },
  {
   "cell_type": "markdown",
   "id": "fd1164b5",
   "metadata": {},
   "source": [
    "---"
   ]
  },
  {
   "cell_type": "markdown",
   "id": "46466d41",
   "metadata": {},
   "source": [
    "## 학교"
   ]
  },
  {
   "cell_type": "code",
   "execution_count": 22,
   "id": "f828a7b9",
   "metadata": {},
   "outputs": [
    {
     "data": {
      "text/html": [
       "<div>\n",
       "<style scoped>\n",
       "    .dataframe tbody tr th:only-of-type {\n",
       "        vertical-align: middle;\n",
       "    }\n",
       "\n",
       "    .dataframe tbody tr th {\n",
       "        vertical-align: top;\n",
       "    }\n",
       "\n",
       "    .dataframe thead th {\n",
       "        text-align: right;\n",
       "    }\n",
       "</style>\n",
       "<table border=\"1\" class=\"dataframe\">\n",
       "  <thead>\n",
       "    <tr style=\"text-align: right;\">\n",
       "      <th></th>\n",
       "      <th>NAME</th>\n",
       "      <th>위도</th>\n",
       "      <th>경도</th>\n",
       "    </tr>\n",
       "  </thead>\n",
       "  <tbody>\n",
       "    <tr>\n",
       "      <th>0</th>\n",
       "      <td>감천초등학교</td>\n",
       "      <td>35.083096</td>\n",
       "      <td>129.007605</td>\n",
       "    </tr>\n",
       "    <tr>\n",
       "      <th>1</th>\n",
       "      <td>광일초등학교</td>\n",
       "      <td>35.103725</td>\n",
       "      <td>129.029861</td>\n",
       "    </tr>\n",
       "    <tr>\n",
       "      <th>2</th>\n",
       "      <td>괴정초등학교</td>\n",
       "      <td>35.103763</td>\n",
       "      <td>128.999875</td>\n",
       "    </tr>\n",
       "    <tr>\n",
       "      <th>3</th>\n",
       "      <td>구덕초등학교</td>\n",
       "      <td>35.120262</td>\n",
       "      <td>129.012359</td>\n",
       "    </tr>\n",
       "    <tr>\n",
       "      <th>4</th>\n",
       "      <td>구평초등학교</td>\n",
       "      <td>35.087007</td>\n",
       "      <td>128.989239</td>\n",
       "    </tr>\n",
       "  </tbody>\n",
       "</table>\n",
       "</div>"
      ],
      "text/plain": [
       "     NAME         위도          경도\n",
       "0  감천초등학교  35.083096  129.007605\n",
       "1  광일초등학교  35.103725  129.029861\n",
       "2  괴정초등학교  35.103763  128.999875\n",
       "3  구덕초등학교  35.120262  129.012359\n",
       "4  구평초등학교  35.087007  128.989239"
      ]
     },
     "execution_count": 22,
     "metadata": {},
     "output_type": "execute_result"
    }
   ],
   "source": [
    "school = pd.read_csv('./data/초등학교,유치원.csv', encoding='cp949')\n",
    "school.head()"
   ]
  },
  {
   "cell_type": "code",
   "execution_count": 23,
   "id": "2d4dc45e",
   "metadata": {},
   "outputs": [
    {
     "data": {
      "text/plain": [
       "NAME    716\n",
       "위도      716\n",
       "경도      716\n",
       "dtype: int64"
      ]
     },
     "execution_count": 23,
     "metadata": {},
     "output_type": "execute_result"
    }
   ],
   "source": [
    "school.count()"
   ]
  },
  {
   "cell_type": "code",
   "execution_count": 25,
   "id": "4241fb49",
   "metadata": {
    "scrolled": true
   },
   "outputs": [
    {
     "data": {
      "text/plain": [
       "NAME    663\n",
       "위도      663\n",
       "경도      663\n",
       "dtype: int64"
      ]
     },
     "execution_count": 25,
     "metadata": {},
     "output_type": "execute_result"
    }
   ],
   "source": [
    "lon_school = school.drop_duplicates(['경도'])\n",
    "lon_school.count()"
   ]
  },
  {
   "cell_type": "code",
   "execution_count": 26,
   "id": "bc864f6c",
   "metadata": {},
   "outputs": [],
   "source": [
    "lon_school.to_csv('./data/초등학교,유치원.csv', index=False, encoding='cp949')"
   ]
  },
  {
   "cell_type": "markdown",
   "id": "e1839874",
   "metadata": {},
   "source": [
    "---"
   ]
  },
  {
   "cell_type": "markdown",
   "id": "54a8ef12",
   "metadata": {},
   "source": [
    "## 공원"
   ]
  },
  {
   "cell_type": "code",
   "execution_count": 27,
   "id": "f58eaa18",
   "metadata": {},
   "outputs": [
    {
     "data": {
      "text/html": [
       "<div>\n",
       "<style scoped>\n",
       "    .dataframe tbody tr th:only-of-type {\n",
       "        vertical-align: middle;\n",
       "    }\n",
       "\n",
       "    .dataframe tbody tr th {\n",
       "        vertical-align: top;\n",
       "    }\n",
       "\n",
       "    .dataframe thead th {\n",
       "        text-align: right;\n",
       "    }\n",
       "</style>\n",
       "<table border=\"1\" class=\"dataframe\">\n",
       "  <thead>\n",
       "    <tr style=\"text-align: right;\">\n",
       "      <th></th>\n",
       "      <th>공원명</th>\n",
       "      <th>위도</th>\n",
       "      <th>경도</th>\n",
       "    </tr>\n",
       "  </thead>\n",
       "  <tbody>\n",
       "    <tr>\n",
       "      <th>0</th>\n",
       "      <td>희망공원</td>\n",
       "      <td>35.253288</td>\n",
       "      <td>129.213168</td>\n",
       "    </tr>\n",
       "    <tr>\n",
       "      <th>1</th>\n",
       "      <td>희망공원</td>\n",
       "      <td>35.197702</td>\n",
       "      <td>129.133429</td>\n",
       "    </tr>\n",
       "    <tr>\n",
       "      <th>2</th>\n",
       "      <td>희망공원</td>\n",
       "      <td>35.174071</td>\n",
       "      <td>129.102578</td>\n",
       "    </tr>\n",
       "    <tr>\n",
       "      <th>3</th>\n",
       "      <td>희망공원</td>\n",
       "      <td>35.226661</td>\n",
       "      <td>129.009744</td>\n",
       "    </tr>\n",
       "    <tr>\n",
       "      <th>4</th>\n",
       "      <td>희망공원</td>\n",
       "      <td>35.106979</td>\n",
       "      <td>128.972764</td>\n",
       "    </tr>\n",
       "  </tbody>\n",
       "</table>\n",
       "</div>"
      ],
      "text/plain": [
       "    공원명         위도          경도\n",
       "0  희망공원  35.253288  129.213168\n",
       "1  희망공원  35.197702  129.133429\n",
       "2  희망공원  35.174071  129.102578\n",
       "3  희망공원  35.226661  129.009744\n",
       "4  희망공원  35.106979  128.972764"
      ]
     },
     "execution_count": 27,
     "metadata": {},
     "output_type": "execute_result"
    }
   ],
   "source": [
    "park = pd.read_csv('./data/공원.csv', encoding='cp949')\n",
    "park.head()"
   ]
  },
  {
   "cell_type": "code",
   "execution_count": 28,
   "id": "492012fc",
   "metadata": {},
   "outputs": [
    {
     "data": {
      "text/plain": [
       "공원명    667\n",
       "위도     667\n",
       "경도     667\n",
       "dtype: int64"
      ]
     },
     "execution_count": 28,
     "metadata": {},
     "output_type": "execute_result"
    }
   ],
   "source": [
    "park.count()"
   ]
  },
  {
   "cell_type": "code",
   "execution_count": 29,
   "id": "db8a1f42",
   "metadata": {},
   "outputs": [
    {
     "data": {
      "text/plain": [
       "공원명    636\n",
       "위도     636\n",
       "경도     636\n",
       "dtype: int64"
      ]
     },
     "execution_count": 29,
     "metadata": {},
     "output_type": "execute_result"
    }
   ],
   "source": [
    "lon_park = park.drop_duplicates(['위도'])\n",
    "lon_park.count()"
   ]
  },
  {
   "cell_type": "code",
   "execution_count": 30,
   "id": "9583d995",
   "metadata": {},
   "outputs": [],
   "source": [
    "lon_park.to_csv('./data/공원.csv', index=False, encoding='cp949')"
   ]
  },
  {
   "cell_type": "markdown",
   "id": "2cc42be3",
   "metadata": {},
   "source": [
    "---"
   ]
  },
  {
   "cell_type": "markdown",
   "id": "30b14d00",
   "metadata": {},
   "source": [
    "## 어린이 사고다발지"
   ]
  },
  {
   "cell_type": "code",
   "execution_count": 32,
   "id": "cd612fae",
   "metadata": {},
   "outputs": [
    {
     "data": {
      "text/html": [
       "<div>\n",
       "<style scoped>\n",
       "    .dataframe tbody tr th:only-of-type {\n",
       "        vertical-align: middle;\n",
       "    }\n",
       "\n",
       "    .dataframe tbody tr th {\n",
       "        vertical-align: top;\n",
       "    }\n",
       "\n",
       "    .dataframe thead th {\n",
       "        text-align: right;\n",
       "    }\n",
       "</style>\n",
       "<table border=\"1\" class=\"dataframe\">\n",
       "  <thead>\n",
       "    <tr style=\"text-align: right;\">\n",
       "      <th></th>\n",
       "      <th>지점명</th>\n",
       "      <th>경도</th>\n",
       "      <th>위도</th>\n",
       "    </tr>\n",
       "  </thead>\n",
       "  <tbody>\n",
       "    <tr>\n",
       "      <th>0</th>\n",
       "      <td>부산광역시 중구 대청동1가(대청사거리 부근)</td>\n",
       "      <td>129.027405</td>\n",
       "      <td>35.102976</td>\n",
       "    </tr>\n",
       "    <tr>\n",
       "      <th>1</th>\n",
       "      <td>부산광역시 영도구 청학동(동성알미늄샤시 부근)</td>\n",
       "      <td>129.065301</td>\n",
       "      <td>35.092408</td>\n",
       "    </tr>\n",
       "    <tr>\n",
       "      <th>2</th>\n",
       "      <td>부산광역시 동래구 복천동(대명아카데미 부근)</td>\n",
       "      <td>129.090660</td>\n",
       "      <td>35.203132</td>\n",
       "    </tr>\n",
       "    <tr>\n",
       "      <th>3</th>\n",
       "      <td>부산광역시 남구 용호동(LG메트로시티 부근)</td>\n",
       "      <td>129.113059</td>\n",
       "      <td>35.129353</td>\n",
       "    </tr>\n",
       "    <tr>\n",
       "      <th>4</th>\n",
       "      <td>부산광역시 북구 화명동(롯데드림어린이집 부근)</td>\n",
       "      <td>129.013631</td>\n",
       "      <td>35.236114</td>\n",
       "    </tr>\n",
       "  </tbody>\n",
       "</table>\n",
       "</div>"
      ],
      "text/plain": [
       "                         지점명          경도         위도\n",
       "0   부산광역시 중구 대청동1가(대청사거리 부근)  129.027405  35.102976\n",
       "1  부산광역시 영도구 청학동(동성알미늄샤시 부근)  129.065301  35.092408\n",
       "2   부산광역시 동래구 복천동(대명아카데미 부근)  129.090660  35.203132\n",
       "3   부산광역시 남구 용호동(LG메트로시티 부근)  129.113059  35.129353\n",
       "4  부산광역시 북구 화명동(롯데드림어린이집 부근)  129.013631  35.236114"
      ]
     },
     "execution_count": 32,
     "metadata": {},
     "output_type": "execute_result"
    }
   ],
   "source": [
    "many = pd.read_csv('./data/어린이사고다발지.csv', encoding='cp949')\n",
    "many.head()"
   ]
  },
  {
   "cell_type": "code",
   "execution_count": 33,
   "id": "1afe07c0",
   "metadata": {},
   "outputs": [
    {
     "data": {
      "text/plain": [
       "지점명    91\n",
       "경도     91\n",
       "위도     91\n",
       "dtype: int64"
      ]
     },
     "execution_count": 33,
     "metadata": {},
     "output_type": "execute_result"
    }
   ],
   "source": [
    "many.count()"
   ]
  },
  {
   "cell_type": "code",
   "execution_count": 34,
   "id": "65517118",
   "metadata": {},
   "outputs": [
    {
     "data": {
      "text/plain": [
       "지점명    91\n",
       "경도     91\n",
       "위도     91\n",
       "dtype: int64"
      ]
     },
     "execution_count": 34,
     "metadata": {},
     "output_type": "execute_result"
    }
   ],
   "source": [
    "lon_many = many.drop_duplicates(['위도'])\n",
    "lon_many.count()"
   ]
  }
 ],
 "metadata": {
  "kernelspec": {
   "display_name": "Python 3",
   "language": "python",
   "name": "python3"
  },
  "language_info": {
   "codemirror_mode": {
    "name": "ipython",
    "version": 3
   },
   "file_extension": ".py",
   "mimetype": "text/x-python",
   "name": "python",
   "nbconvert_exporter": "python",
   "pygments_lexer": "ipython3",
   "version": "3.8.8"
  }
 },
 "nbformat": 4,
 "nbformat_minor": 5
}
