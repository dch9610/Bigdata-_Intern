{
 "cells": [
  {
   "cell_type": "code",
   "execution_count": 1,
   "metadata": {
    "scrolled": true
   },
   "outputs": [],
   "source": [
    "from mclp import *\n",
    "import pandas as pd"
   ]
  },
  {
   "cell_type": "code",
   "execution_count": 2,
   "metadata": {},
   "outputs": [],
   "source": [
    "%matplotlib inline"
   ]
  },
  {
   "cell_type": "markdown",
   "metadata": {},
   "source": [
    "### Generate input data"
   ]
  },
  {
   "cell_type": "code",
   "execution_count": 3,
   "metadata": {
    "scrolled": false
   },
   "outputs": [
    {
     "data": {
      "text/html": [
       "<div>\n",
       "<style scoped>\n",
       "    .dataframe tbody tr th:only-of-type {\n",
       "        vertical-align: middle;\n",
       "    }\n",
       "\n",
       "    .dataframe tbody tr th {\n",
       "        vertical-align: top;\n",
       "    }\n",
       "\n",
       "    .dataframe thead th {\n",
       "        text-align: right;\n",
       "    }\n",
       "</style>\n",
       "<table border=\"1\" class=\"dataframe\">\n",
       "  <thead>\n",
       "    <tr style=\"text-align: right;\">\n",
       "      <th></th>\n",
       "      <th>NAME</th>\n",
       "      <th>경도</th>\n",
       "      <th>위도</th>\n",
       "    </tr>\n",
       "  </thead>\n",
       "  <tbody>\n",
       "    <tr>\n",
       "      <th>0</th>\n",
       "      <td>월평교차로</td>\n",
       "      <td>129.140873</td>\n",
       "      <td>35.357617</td>\n",
       "    </tr>\n",
       "    <tr>\n",
       "      <th>1</th>\n",
       "      <td>좌천사거리</td>\n",
       "      <td>129.239996</td>\n",
       "      <td>35.318388</td>\n",
       "    </tr>\n",
       "    <tr>\n",
       "      <th>2</th>\n",
       "      <td>노포차량기지앞</td>\n",
       "      <td>129.096650</td>\n",
       "      <td>35.288899</td>\n",
       "    </tr>\n",
       "    <tr>\n",
       "      <th>3</th>\n",
       "      <td>범어사입구</td>\n",
       "      <td>129.092502</td>\n",
       "      <td>35.275736</td>\n",
       "    </tr>\n",
       "    <tr>\n",
       "      <th>4</th>\n",
       "      <td>경부TG</td>\n",
       "      <td>129.108796</td>\n",
       "      <td>35.274671</td>\n",
       "    </tr>\n",
       "  </tbody>\n",
       "</table>\n",
       "</div>"
      ],
      "text/plain": [
       "      NAME          경도         위도\n",
       "0    월평교차로  129.140873  35.357617\n",
       "1    좌천사거리  129.239996  35.318388\n",
       "2  노포차량기지앞  129.096650  35.288899\n",
       "3    범어사입구  129.092502  35.275736\n",
       "4     경부TG  129.108796  35.274671"
      ]
     },
     "execution_count": 3,
     "metadata": {},
     "output_type": "execute_result"
    }
   ],
   "source": [
    "cctv = pd.read_csv('./data/CCTV.csv',encoding='cp949')\n",
    "cctv.head()"
   ]
  },
  {
   "cell_type": "code",
   "execution_count": 121,
   "metadata": {},
   "outputs": [
    {
     "data": {
      "text/html": [
       "<div>\n",
       "<style scoped>\n",
       "    .dataframe tbody tr th:only-of-type {\n",
       "        vertical-align: middle;\n",
       "    }\n",
       "\n",
       "    .dataframe tbody tr th {\n",
       "        vertical-align: top;\n",
       "    }\n",
       "\n",
       "    .dataframe thead th {\n",
       "        text-align: right;\n",
       "    }\n",
       "</style>\n",
       "<table border=\"1\" class=\"dataframe\">\n",
       "  <thead>\n",
       "    <tr style=\"text-align: right;\">\n",
       "      <th></th>\n",
       "      <th>NAME</th>\n",
       "      <th>위도</th>\n",
       "      <th>경도</th>\n",
       "    </tr>\n",
       "  </thead>\n",
       "  <tbody>\n",
       "    <tr>\n",
       "      <th>0</th>\n",
       "      <td>감천초등학교</td>\n",
       "      <td>35.083096</td>\n",
       "      <td>129.007605</td>\n",
       "    </tr>\n",
       "    <tr>\n",
       "      <th>1</th>\n",
       "      <td>광일초등학교</td>\n",
       "      <td>35.103725</td>\n",
       "      <td>129.029861</td>\n",
       "    </tr>\n",
       "    <tr>\n",
       "      <th>2</th>\n",
       "      <td>괴정초등학교</td>\n",
       "      <td>35.103763</td>\n",
       "      <td>128.999875</td>\n",
       "    </tr>\n",
       "    <tr>\n",
       "      <th>3</th>\n",
       "      <td>구덕초등학교</td>\n",
       "      <td>35.120262</td>\n",
       "      <td>129.012359</td>\n",
       "    </tr>\n",
       "    <tr>\n",
       "      <th>4</th>\n",
       "      <td>구평초등학교</td>\n",
       "      <td>35.087007</td>\n",
       "      <td>128.989239</td>\n",
       "    </tr>\n",
       "  </tbody>\n",
       "</table>\n",
       "</div>"
      ],
      "text/plain": [
       "     NAME         위도          경도\n",
       "0  감천초등학교  35.083096  129.007605\n",
       "1  광일초등학교  35.103725  129.029861\n",
       "2  괴정초등학교  35.103763  128.999875\n",
       "3  구덕초등학교  35.120262  129.012359\n",
       "4  구평초등학교  35.087007  128.989239"
      ]
     },
     "execution_count": 121,
     "metadata": {},
     "output_type": "execute_result"
    }
   ],
   "source": [
    "school = pd.read_csv('./data/초등학교,유치원.csv',encoding='cp949')\n",
    "school.head()"
   ]
  },
  {
   "cell_type": "code",
   "execution_count": 4,
   "metadata": {},
   "outputs": [],
   "source": [
    "arr = np.empty((0,2), int)"
   ]
  },
  {
   "cell_type": "code",
   "execution_count": 123,
   "metadata": {},
   "outputs": [],
   "source": [
    "# 2차원 배열 만들기\n",
    "for i in range(0,len(school)):\n",
    "    # arr = np.array([[cctv['경도'][i],cctv['위도'][i]]])\n",
    "    arr = np.append(arr, np.array([[school['경도'][i],school['위도'][i]]]),axis=0)"
   ]
  },
  {
   "cell_type": "code",
   "execution_count": 5,
   "metadata": {},
   "outputs": [],
   "source": [
    "# 2차원 배열 만들기\n",
    "for i in range(0,len(cctv)):\n",
    "    # arr = np.array([[cctv['경도'][i],cctv['위도'][i]]])\n",
    "    arr = np.append(arr, np.array([[cctv['경도'][i],cctv['위도'][i]]]),axis=0)"
   ]
  },
  {
   "cell_type": "code",
   "execution_count": 6,
   "metadata": {},
   "outputs": [
    {
     "data": {
      "text/plain": [
       "array([[129.140873  ,  35.357617  ],\n",
       "       [129.239996  ,  35.318388  ],\n",
       "       [129.09665   ,  35.2888986 ],\n",
       "       [129.092502  ,  35.275736  ],\n",
       "       [129.108796  ,  35.27467056],\n",
       "       [129.092939  ,  35.266667  ],\n",
       "       [129.0998452 ,  35.25309999],\n",
       "       [129.220935  ,  35.251513  ],\n",
       "       [129.1035472 ,  35.24840765],\n",
       "       [129.093001  ,  35.246593  ],\n",
       "       [129.2180415 ,  35.23573703],\n",
       "       [129.005982  ,  35.235577  ],\n",
       "       [128.995092  ,  35.235095  ],\n",
       "       [129.013626  ,  35.23481   ],\n",
       "       [129.086384  ,  35.231319  ],\n",
       "       [129.091587  ,  35.230741  ],\n",
       "       [129.0126358 ,  35.22861249],\n",
       "       [129.0082763 ,  35.22040701],\n",
       "       [129.129774  ,  35.22002   ],\n",
       "       [129.084225  ,  35.218093  ],\n",
       "       [128.9900458 ,  35.21728531],\n",
       "       [129.1178377 ,  35.2167619 ],\n",
       "       [129.043852  ,  35.215264  ],\n",
       "       [129.0044773 ,  35.21488583],\n",
       "       [129.1087064 ,  35.21422275],\n",
       "       [129.036648  ,  35.213635  ],\n",
       "       [129.026555  ,  35.2135809 ],\n",
       "       [129.036505  ,  35.212994  ],\n",
       "       [129.078823  ,  35.211747  ],\n",
       "       [129.222168  ,  35.211544  ],\n",
       "       [128.9739918 ,  35.21116918],\n",
       "       [129.066136  ,  35.211037  ],\n",
       "       [129.0054462 ,  35.21026   ],\n",
       "       [128.999689  ,  35.210204  ],\n",
       "       [128.9845715 ,  35.20968574],\n",
       "       [129.069975  ,  35.208662  ],\n",
       "       [129.068908  ,  35.208256  ],\n",
       "       [129.069642  ,  35.207954  ],\n",
       "       [129.069339  ,  35.207349  ],\n",
       "       [129.1200199 ,  35.20677724],\n",
       "       [129.0782961 ,  35.20414484],\n",
       "       [128.9942452 ,  35.20390139],\n",
       "       [128.9742163 ,  35.20311354],\n",
       "       [129.0836154 ,  35.20166152],\n",
       "       [128.9981316 ,  35.2013481 ],\n",
       "       [129.087533  ,  35.201045  ],\n",
       "       [129.131325  ,  35.198742  ],\n",
       "       [129.0966384 ,  35.19812776],\n",
       "       [129.205905  ,  35.197233  ],\n",
       "       [129.102324  ,  35.196857  ],\n",
       "       [129.080232  ,  35.19575   ],\n",
       "       [129.109751  ,  35.19502   ],\n",
       "       [129.06382   ,  35.194698  ],\n",
       "       [129.091666  ,  35.194594  ],\n",
       "       [129.1136323 ,  35.1941066 ],\n",
       "       [128.9829165 ,  35.1929643 ],\n",
       "       [129.089412  ,  35.192104  ],\n",
       "       [129.089736  ,  35.191765  ],\n",
       "       [129.088825  ,  35.191669  ],\n",
       "       [129.1072592 ,  35.19120692],\n",
       "       [129.067321  ,  35.191085  ],\n",
       "       [129.08689   ,  35.190545  ],\n",
       "       [129.213228  ,  35.190112  ],\n",
       "       [129.116109  ,  35.189974  ],\n",
       "       [129.120499  ,  35.189948  ],\n",
       "       [129.116103  ,  35.189851  ],\n",
       "       [129.084615  ,  35.18884   ],\n",
       "       [129.085197  ,  35.188835  ],\n",
       "       [129.0734393 ,  35.18853007],\n",
       "       [129.126643  ,  35.188493  ],\n",
       "       [129.107297  ,  35.18775   ],\n",
       "       [129.081562  ,  35.186792  ],\n",
       "       [128.9910508 ,  35.18644952],\n",
       "       [129.081753  ,  35.186064  ],\n",
       "       [128.9984815 ,  35.18565547],\n",
       "       [129.087371  ,  35.185594  ],\n",
       "       [129.113448  ,  35.184482  ],\n",
       "       [129.1187133 ,  35.18427   ],\n",
       "       [129.201129  ,  35.183951  ],\n",
       "       [129.046958  ,  35.181922  ],\n",
       "       [129.048927  ,  35.18165   ],\n",
       "       [129.123387  ,  35.18143   ],\n",
       "       [128.9580955 ,  35.1809261 ],\n",
       "       [129.19864   ,  35.180484  ],\n",
       "       [129.1140741 ,  35.1801285 ],\n",
       "       [129.0756634 ,  35.17860472],\n",
       "       [129.126949  ,  35.17750145],\n",
       "       [129.164991  ,  35.176387  ],\n",
       "       [129.1223234 ,  35.17538667],\n",
       "       [129.067785  ,  35.17477   ],\n",
       "       [129.086591  ,  35.174558  ],\n",
       "       [129.1239937 ,  35.1736251 ],\n",
       "       [129.070956  ,  35.172854  ],\n",
       "       [129.103547  ,  35.17277   ],\n",
       "       [129.174226  ,  35.1718    ],\n",
       "       [128.9884551 ,  35.1715373 ],\n",
       "       [129.135009  ,  35.171263  ],\n",
       "       [129.0553498 ,  35.17080479],\n",
       "       [129.13238   ,  35.169264  ],\n",
       "       [129.068768  ,  35.169229  ],\n",
       "       [129.175823  ,  35.169121  ],\n",
       "       [129.131922  ,  35.169035  ],\n",
       "       [129.132827  ,  35.168874  ],\n",
       "       [129.1390486 ,  35.16869409],\n",
       "       [129.0503874 ,  35.16848   ],\n",
       "       [129.066953  ,  35.167862  ],\n",
       "       [129.129722  ,  35.16778   ],\n",
       "       [129.115182  ,  35.167335  ],\n",
       "       [129.128548  ,  35.167044  ],\n",
       "       [129.1679751 ,  35.16687399],\n",
       "       [129.12561   ,  35.16539   ],\n",
       "       [129.1600462 ,  35.16410012],\n",
       "       [129.063771  ,  35.163847  ],\n",
       "       [129.030326  ,  35.16369728],\n",
       "       [129.1326443 ,  35.16363804],\n",
       "       [129.053062  ,  35.162819  ],\n",
       "       [128.9846893 ,  35.1619734 ],\n",
       "       [129.0500458 ,  35.16163921],\n",
       "       [129.17206   ,  35.161035  ],\n",
       "       [129.1490521 ,  35.16035276],\n",
       "       [129.183931  ,  35.160242  ],\n",
       "       [129.1428578 ,  35.1600573 ],\n",
       "       [129.12813   ,  35.15991   ],\n",
       "       [128.886269  ,  35.159867  ],\n",
       "       [129.161785  ,  35.15962   ],\n",
       "       [129.031632  ,  35.159118  ],\n",
       "       [129.12105   ,  35.158755  ],\n",
       "       [129.059652  ,  35.158357  ],\n",
       "       [129.060123  ,  35.1578    ],\n",
       "       [129.059124  ,  35.157704  ],\n",
       "       [129.0624155 ,  35.1576888 ],\n",
       "       [129.1510165 ,  35.15760428],\n",
       "       [129.050333  ,  35.157578  ],\n",
       "       [129.0652985 ,  35.15738846],\n",
       "       [129.1129261 ,  35.15733192],\n",
       "       [129.0556119 ,  35.15632894],\n",
       "       [129.05049   ,  35.15573   ],\n",
       "       [128.9534244 ,  35.15543524],\n",
       "       [129.0218069 ,  35.15482749],\n",
       "       [129.058965  ,  35.15453   ],\n",
       "       [129.032513  ,  35.154332  ],\n",
       "       [129.1193541 ,  35.1542544 ],\n",
       "       [129.02027   ,  35.153442  ],\n",
       "       [129.031844  ,  35.152825  ],\n",
       "       [128.972695  ,  35.152118  ],\n",
       "       [128.99964   ,  35.150541  ],\n",
       "       [129.000108  ,  35.150174  ],\n",
       "       [129.06519   ,  35.149816  ],\n",
       "       [128.98957   ,  35.14926   ],\n",
       "       [129.065318  ,  35.14872   ],\n",
       "       [129.095145  ,  35.14760563],\n",
       "       [129.059051  ,  35.147345  ],\n",
       "       [128.9693053 ,  35.145255  ],\n",
       "       [129.109468  ,  35.14379   ],\n",
       "       [128.987631  ,  35.14313   ],\n",
       "       [129.0861442 ,  35.14192446],\n",
       "       [129.0559917 ,  35.14183329],\n",
       "       [129.0591679 ,  35.14179515],\n",
       "       [128.8742981 ,  35.14128001],\n",
       "       [129.105463  ,  35.139896  ],\n",
       "       [129.104919  ,  35.139667  ],\n",
       "       [129.063742  ,  35.137357  ],\n",
       "       [129.067785  ,  35.137138  ],\n",
       "       [129.099838  ,  35.13703   ],\n",
       "       [129.1111    ,  35.136355  ],\n",
       "       [129.091935  ,  35.13552   ],\n",
       "       [129.09268   ,  35.135194  ],\n",
       "       [129.091909  ,  35.135115  ],\n",
       "       [128.861057  ,  35.132834  ],\n",
       "       [129.052554  ,  35.132769  ],\n",
       "       [128.9722028 ,  35.13146085],\n",
       "       [129.059808  ,  35.130139  ],\n",
       "       [129.0926    ,  35.130027  ],\n",
       "       [129.066696  ,  35.130015  ],\n",
       "       [129.106086  ,  35.12966   ],\n",
       "       [129.0548942 ,  35.1268578 ],\n",
       "       [129.0491386 ,  35.1247711 ],\n",
       "       [129.079094  ,  35.124369  ],\n",
       "       [128.8942335 ,  35.12189569],\n",
       "       [129.098788  ,  35.121067  ],\n",
       "       [129.112221  ,  35.1202    ],\n",
       "       [129.042203  ,  35.120005  ],\n",
       "       [129.111573  ,  35.119807  ],\n",
       "       [129.112747  ,  35.119552  ],\n",
       "       [129.0804564 ,  35.11889502],\n",
       "       [129.04524   ,  35.116855  ],\n",
       "       [129.0173993 ,  35.11570913],\n",
       "       [129.039353  ,  35.114967  ],\n",
       "       [128.9620686 ,  35.1148783 ],\n",
       "       [128.885003  ,  35.112831  ],\n",
       "       [128.87273   ,  35.112504  ],\n",
       "       [129.037914  ,  35.11186   ],\n",
       "       [128.9322653 ,  35.11117591],\n",
       "       [129.0119937 ,  35.11094252],\n",
       "       [129.0928232 ,  35.11053751],\n",
       "       [129.0180805 ,  35.10996773],\n",
       "       [128.95675   ,  35.10627   ],\n",
       "       [128.9682442 ,  35.10618308],\n",
       "       [129.03746   ,  35.105355  ],\n",
       "       [128.839277  ,  35.10397   ],\n",
       "       [129.02008   ,  35.10320793],\n",
       "       [129.027925  ,  35.10311   ],\n",
       "       [129.036658  ,  35.103092  ],\n",
       "       [128.993807  ,  35.10036   ],\n",
       "       [128.9804317 ,  35.10027   ],\n",
       "       [128.993195  ,  35.100139  ],\n",
       "       [128.993436  ,  35.099702  ],\n",
       "       [129.02774   ,  35.098815  ],\n",
       "       [129.056     ,  35.09808356],\n",
       "       [129.035343  ,  35.097879  ],\n",
       "       [129.029273  ,  35.097858  ],\n",
       "       [129.024297  ,  35.096521  ],\n",
       "       [129.04489   ,  35.092924  ],\n",
       "       [129.03984   ,  35.09221   ],\n",
       "       [128.9996561 ,  35.08951326],\n",
       "       [128.839379  ,  35.088837  ],\n",
       "       [128.9037776 ,  35.08879599],\n",
       "       [128.95263   ,  35.085809  ],\n",
       "       [129.0408531 ,  35.08554552],\n",
       "       [128.9772608 ,  35.08495009],\n",
       "       [128.9839115 ,  35.0847276 ],\n",
       "       [129.0223615 ,  35.0800322 ],\n",
       "       [129.018855  ,  35.078565  ],\n",
       "       [128.954385  ,  35.067282  ],\n",
       "       [128.8333934 ,  35.0644367 ],\n",
       "       [128.9676872 ,  35.0475253 ]])"
      ]
     },
     "execution_count": 6,
     "metadata": {},
     "output_type": "execute_result"
    }
   ],
   "source": [
    "arr"
   ]
  },
  {
   "cell_type": "code",
   "execution_count": 143,
   "metadata": {},
   "outputs": [],
   "source": [
    "import numpy as np\n",
    "Npoints = 300\n",
    "# Generate points in uniform distribution \n",
    "# points = np.random.rand(Npoints,2)\n",
    "\n",
    "# Generate points in moon distribution\n",
    "from sklearn.datasets import make_moons\n",
    "points,_ = make_moons(Npoints,noise=0.15)"
   ]
  },
  {
   "cell_type": "code",
   "execution_count": 144,
   "metadata": {},
   "outputs": [
    {
     "data": {
      "text/plain": [
       "numpy.ndarray"
      ]
     },
     "execution_count": 144,
     "metadata": {},
     "output_type": "execute_result"
    }
   ],
   "source": [
    "type(points)"
   ]
  },
  {
   "cell_type": "code",
   "execution_count": 7,
   "metadata": {},
   "outputs": [
    {
     "ename": "NameError",
     "evalue": "name 'ax' is not defined",
     "output_type": "error",
     "traceback": [
      "\u001b[1;31m---------------------------------------------------------------------------\u001b[0m",
      "\u001b[1;31mNameError\u001b[0m                                 Traceback (most recent call last)",
      "\u001b[1;32m<ipython-input-7-66da2f04b0d1>\u001b[0m in \u001b[0;36m<module>\u001b[1;34m\u001b[0m\n\u001b[0;32m      1\u001b[0m \u001b[1;31m# Plot input data\u001b[0m\u001b[1;33m\u001b[0m\u001b[1;33m\u001b[0m\u001b[1;33m\u001b[0m\u001b[0m\n\u001b[1;32m----> 2\u001b[1;33m \u001b[0mplot_input\u001b[0m\u001b[1;33m(\u001b[0m\u001b[0marr\u001b[0m\u001b[1;33m)\u001b[0m\u001b[1;33m\u001b[0m\u001b[1;33m\u001b[0m\u001b[0m\n\u001b[0m",
      "\u001b[1;32m~\\Desktop\\프로젝트\\어린이 교통 안전관련\\모델 생성\\군집화\\mclp.py\u001b[0m in \u001b[0;36mplot_input\u001b[1;34m(points)\u001b[0m\n\u001b[0;32m    136\u001b[0m     \u001b[0mplt\u001b[0m\u001b[1;33m.\u001b[0m\u001b[0mscatter\u001b[0m\u001b[1;33m(\u001b[0m\u001b[0mpoints\u001b[0m\u001b[1;33m[\u001b[0m\u001b[1;33m:\u001b[0m\u001b[1;33m,\u001b[0m\u001b[1;36m0\u001b[0m\u001b[1;33m]\u001b[0m\u001b[1;33m,\u001b[0m\u001b[0mpoints\u001b[0m\u001b[1;33m[\u001b[0m\u001b[1;33m:\u001b[0m\u001b[1;33m,\u001b[0m\u001b[1;36m1\u001b[0m\u001b[1;33m]\u001b[0m\u001b[1;33m,\u001b[0m\u001b[0mc\u001b[0m\u001b[1;33m=\u001b[0m\u001b[1;34m'C0'\u001b[0m\u001b[1;33m)\u001b[0m\u001b[1;33m\u001b[0m\u001b[1;33m\u001b[0m\u001b[0m\n\u001b[0;32m    137\u001b[0m     \u001b[1;31m# ax = plt.gca()\u001b[0m\u001b[1;33m\u001b[0m\u001b[1;33m\u001b[0m\u001b[1;33m\u001b[0m\u001b[0m\n\u001b[1;32m--> 138\u001b[1;33m     \u001b[0max\u001b[0m\u001b[1;33m.\u001b[0m\u001b[0maxis\u001b[0m\u001b[1;33m(\u001b[0m\u001b[1;34m'equal'\u001b[0m\u001b[1;33m)\u001b[0m\u001b[1;33m\u001b[0m\u001b[1;33m\u001b[0m\u001b[0m\n\u001b[0m\u001b[0;32m    139\u001b[0m     ax.tick_params(axis='both',left=False, top=False, right=False,\n\u001b[0;32m    140\u001b[0m                        \u001b[0mbottom\u001b[0m\u001b[1;33m=\u001b[0m\u001b[1;32mFalse\u001b[0m\u001b[1;33m,\u001b[0m \u001b[0mlabelleft\u001b[0m\u001b[1;33m=\u001b[0m\u001b[1;32mFalse\u001b[0m\u001b[1;33m,\u001b[0m \u001b[0mlabeltop\u001b[0m\u001b[1;33m=\u001b[0m\u001b[1;32mFalse\u001b[0m\u001b[1;33m,\u001b[0m\u001b[1;33m\u001b[0m\u001b[1;33m\u001b[0m\u001b[0m\n",
      "\u001b[1;31mNameError\u001b[0m: name 'ax' is not defined"
     ]
    },
    {
     "data": {
      "image/png": "[encoded data removed]",
      "text/plain": [
       "<Figure size 576x576 with 1 Axes>"
      ]
     },
     "metadata": {
      "needs_background": "light"
     },
     "output_type": "display_data"
    }
   ],
   "source": [
    "# Plot input data\n",
    "plot_input(arr)"
   ]
  },
  {
   "cell_type": "markdown",
   "metadata": {},
   "source": [
    "### Run the optimization"
   ]
  },
  {
   "cell_type": "code",
   "execution_count": 8,
   "metadata": {
    "scrolled": false
   },
   "outputs": [
    {
     "name": "stdout",
     "output_type": "stream",
     "text": [
      "----- Configurations -----\n",
      "  Number of points 226\n",
      "  K 20\n",
      "  Radius 0.01\n",
      "  M 100\n",
      "Restricted license - for non-production use only - expires 2022-01-13\n",
      "----- Output -----\n",
      "  Running time : 0.049790143966674805 seconds\n",
      "  Optimal coverage points: 71\n"
     ]
    },
    {
     "data": {
      "image/png": "[encoded data removed]",
      "text/plain": [
       "<Figure size 576x576 with 1 Axes>"
      ]
     },
     "metadata": {},
     "output_type": "display_data"
    }
   ],
   "source": [
    "# Number of sites to select\n",
    "K = 20\n",
    "\n",
    "# Service radius of each site\n",
    "radius = 0.01\n",
    "\n",
    "# Candidate site size (random sites generated)\n",
    "# 한 동그라미에 많이 들어감 (가중치가 높은 변수는 큰 값을 가짐)\n",
    "M = 100\n",
    "# Run mclp opt_sites is the location of optimal sites and f is the points covered\n",
    "opt_sites,f = mclp(arr,K,radius,M)\n",
    "\n",
    "# Plot the result\n",
    "plot_result(arr,opt_sites,radius)"
   ]
  },
  {
   "cell_type": "markdown",
   "metadata": {},
   "source": [
    "### Run another configuration"
   ]
  },
  {
   "cell_type": "code",
   "execution_count": 21,
   "metadata": {},
   "outputs": [
    {
     "name": "stdout",
     "output_type": "stream",
     "text": [
      "----- Configurations -----\n",
      "  Number of points 300\n",
      "  K 20\n",
      "  Radius 0.2\n",
      "  M 10000\n"
     ]
    },
    {
     "ename": "GurobiError",
     "evalue": "Model too large for size-limited license; visit https://www.gurobi.com/free-trial for a full license",
     "output_type": "error",
     "traceback": [
      "\u001b[1;31m---------------------------------------------------------------------------\u001b[0m",
      "\u001b[1;31mGurobiError\u001b[0m                               Traceback (most recent call last)",
      "\u001b[1;32m<ipython-input-21-6d175ff91abf>\u001b[0m in \u001b[0;36m<module>\u001b[1;34m\u001b[0m\n\u001b[0;32m      2\u001b[0m \u001b[0mradius\u001b[0m \u001b[1;33m=\u001b[0m \u001b[1;36m0.2\u001b[0m\u001b[1;33m\u001b[0m\u001b[1;33m\u001b[0m\u001b[0m\n\u001b[0;32m      3\u001b[0m \u001b[0mM\u001b[0m \u001b[1;33m=\u001b[0m \u001b[1;36m10000\u001b[0m\u001b[1;33m\u001b[0m\u001b[1;33m\u001b[0m\u001b[0m\n\u001b[1;32m----> 4\u001b[1;33m \u001b[0mopt_sites\u001b[0m\u001b[1;33m,\u001b[0m\u001b[0mf\u001b[0m \u001b[1;33m=\u001b[0m \u001b[0mmclp\u001b[0m\u001b[1;33m(\u001b[0m\u001b[0mpoints\u001b[0m\u001b[1;33m,\u001b[0m\u001b[0mK\u001b[0m\u001b[1;33m,\u001b[0m\u001b[0mradius\u001b[0m\u001b[1;33m,\u001b[0m\u001b[0mM\u001b[0m\u001b[1;33m)\u001b[0m\u001b[1;33m\u001b[0m\u001b[1;33m\u001b[0m\u001b[0m\n\u001b[0m\u001b[0;32m      5\u001b[0m \u001b[0mplot_result\u001b[0m\u001b[1;33m(\u001b[0m\u001b[0mpoints\u001b[0m\u001b[1;33m,\u001b[0m\u001b[0mopt_sites\u001b[0m\u001b[1;33m,\u001b[0m\u001b[0mradius\u001b[0m\u001b[1;33m)\u001b[0m\u001b[1;33m\u001b[0m\u001b[1;33m\u001b[0m\u001b[0m\n",
      "\u001b[1;32m~\\Desktop\\프로젝트\\어린이 교통 안전관련\\모델 생성\\군집화\\mclp.py\u001b[0m in \u001b[0;36mmclp\u001b[1;34m(points, K, radius, M)\u001b[0m\n\u001b[0;32m    109\u001b[0m     \u001b[0mm\u001b[0m\u001b[1;33m.\u001b[0m\u001b[0msetObjective\u001b[0m\u001b[1;33m(\u001b[0m\u001b[0mquicksum\u001b[0m\u001b[1;33m(\u001b[0m\u001b[0my\u001b[0m\u001b[1;33m[\u001b[0m\u001b[0mi\u001b[0m\u001b[1;33m]\u001b[0m\u001b[1;32mfor\u001b[0m \u001b[0mi\u001b[0m \u001b[1;32min\u001b[0m \u001b[0mrange\u001b[0m\u001b[1;33m(\u001b[0m\u001b[0mI\u001b[0m\u001b[1;33m)\u001b[0m\u001b[1;33m)\u001b[0m\u001b[1;33m,\u001b[0m\u001b[0mGRB\u001b[0m\u001b[1;33m.\u001b[0m\u001b[0mMAXIMIZE\u001b[0m\u001b[1;33m)\u001b[0m\u001b[1;33m\u001b[0m\u001b[1;33m\u001b[0m\u001b[0m\n\u001b[0;32m    110\u001b[0m     \u001b[0mm\u001b[0m\u001b[1;33m.\u001b[0m\u001b[0msetParam\u001b[0m\u001b[1;33m(\u001b[0m\u001b[1;34m'OutputFlag'\u001b[0m\u001b[1;33m,\u001b[0m \u001b[1;36m0\u001b[0m\u001b[1;33m)\u001b[0m\u001b[1;33m\u001b[0m\u001b[1;33m\u001b[0m\u001b[0m\n\u001b[1;32m--> 111\u001b[1;33m     \u001b[0mm\u001b[0m\u001b[1;33m.\u001b[0m\u001b[0moptimize\u001b[0m\u001b[1;33m(\u001b[0m\u001b[1;33m)\u001b[0m\u001b[1;33m\u001b[0m\u001b[1;33m\u001b[0m\u001b[0m\n\u001b[0m\u001b[0;32m    112\u001b[0m     \u001b[0mend\u001b[0m \u001b[1;33m=\u001b[0m \u001b[0mtime\u001b[0m\u001b[1;33m.\u001b[0m\u001b[0mtime\u001b[0m\u001b[1;33m(\u001b[0m\u001b[1;33m)\u001b[0m\u001b[1;33m\u001b[0m\u001b[1;33m\u001b[0m\u001b[0m\n\u001b[0;32m    113\u001b[0m     \u001b[0mprint\u001b[0m\u001b[1;33m(\u001b[0m\u001b[1;34m'----- Output -----'\u001b[0m\u001b[1;33m)\u001b[0m\u001b[1;33m\u001b[0m\u001b[1;33m\u001b[0m\u001b[0m\n",
      "\u001b[1;32msrc\\gurobipy\\model.pxi\u001b[0m in \u001b[0;36mgurobipy.Model.optimize\u001b[1;34m()\u001b[0m\n",
      "\u001b[1;31mGurobiError\u001b[0m: Model too large for size-limited license; visit https://www.gurobi.com/free-trial for a full license"
     ]
    }
   ],
   "source": [
    "K = 20\n",
    "radius = 0.2\n",
    "M = 10000\n",
    "opt_sites,f = mclp(points,K,radius,M)\n",
    "plot_result(points,opt_sites,radius)"
   ]
  },
  {
   "cell_type": "code",
   "execution_count": null,
   "metadata": {},
   "outputs": [],
   "source": []
  }
 ],
 "metadata": {
  "kernelspec": {
   "display_name": "Python 3",
   "language": "python",
   "name": "python3"
  },
  "language_info": {
   "codemirror_mode": {
    "name": "ipython",
    "version": 3
   },
   "file_extension": ".py",
   "mimetype": "text/x-python",
   "name": "python",
   "nbconvert_exporter": "python",
   "pygments_lexer": "ipython3",
   "version": "3.8.8"
  },
  "toc": {
   "base_numbering": 1,
   "nav_menu": {},
   "number_sections": true,
   "sideBar": true,
   "skip_h1_title": false,
   "title_cell": "Table of Contents",
   "title_sidebar": "Contents",
   "toc_cell": false,
   "toc_position": {},
   "toc_section_display": true,
   "toc_window_display": true
  }
 },
 "nbformat": 4,
 "nbformat_minor": 2
}
